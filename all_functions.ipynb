{
 "cells": [
  {
   "cell_type": "code",
   "execution_count": null,
   "metadata": {},
   "outputs": [],
   "source": [
    "def power(base, exponent) -> str:\n",
    "    \"\"\"\n",
    "    Calculate the power of a base raised to an exponent and return the result as a JSON string.\n",
    "\n",
    "    This function computes base^exponent, where both the base and the exponent can be either \n",
    "    positive or negative numbers. The result is returned as a JSON string.\n",
    "\n",
    "    Args:\n",
    "        base (float): The base number to be raised.\n",
    "        exponent (float): The exponent to raise the base to.\n",
    "\n",
    "    Returns:\n",
    "        str: A JSON string with the result.\n",
    "    \"\"\""
   ]
  },
  {
   "cell_type": "code",
   "execution_count": null,
   "metadata": {},
   "outputs": [],
   "source": [
    "def get_weather_info(city: str) -> str:\n",
    "    \"\"\"\n",
    "    Return the current time in PST, along with weather and temperature for a given city.\n",
    "\n",
    "    This function calculates the current time in PST (UTC-8) and provides the temperature \n",
    "    and weather condition for a specified city. The temperature is provided in Celsius.\n",
    "\n",
    "    Args:\n",
    "        city (str): The name of the city for which to generate weather information (must be a non-empty string).\n",
    "\n",
    "    Returns:\n",
    "        str: A JSON string with the current time in PST, temperature, weather, and the city,\n",
    "             or an error message if the input is invalid.\n",
    "    \"\"\""
   ]
  },
  {
   "cell_type": "code",
   "execution_count": null,
   "metadata": {},
   "outputs": [],
   "source": [
    "def calculate_trip_cost(distance: float, fuel_efficiency: float, fuel_cost_per_liter: float) -> str:\n",
    "    \"\"\"\n",
    "    Calculate the total cost of a trip based on the distance, fuel efficiency, and fuel cost.\n",
    "\n",
    "    Args:\n",
    "        distance (float): The total distance of the trip in kilometers (must be positive).\n",
    "        fuel_efficiency (float): The fuel efficiency of the vehicle in kilometers per liter (must be positive).\n",
    "        fuel_cost_per_liter (float): The cost of fuel per liter (must be positive).\n",
    "\n",
    "    Returns:\n",
    "        str: A JSON string with the distance, fuel efficiency, fuel cost per liter, and the total trip cost,\n",
    "             or an error message if any input is invalid.\n",
    "    \"\"\""
   ]
  },
  {
   "cell_type": "code",
   "execution_count": null,
   "metadata": {},
   "outputs": [],
   "source": [
    "def calculate_bmi(weight, height, age, gender) -> str:\n",
    "    \"\"\"\n",
    "    Calculate the Body Mass Index (BMI) and return the BMI category and health recommendations.\n",
    "\n",
    "    Args:\n",
    "        weight (float): The person's weight in kilograms (must be positive).\n",
    "        height (float): The person's height in meters (must be positive).\n",
    "        age (int): The person's age in years (must be a positive integer).\n",
    "        gender (str): The person's gender (\"male\", \"female\", or \"other\").\n",
    "\n",
    "    Returns:\n",
    "        str: A JSON string containing the BMI value, BMI category, health recommendations,\n",
    "             or an error message if any input is invalid.\n",
    "    \"\"\""
   ]
  },
  {
   "cell_type": "code",
   "execution_count": null,
   "metadata": {},
   "outputs": [],
   "source": [
    "def get_capital(country: str) -> str:\n",
    "    \"\"\"\n",
    "    Retrieves the capital of a given country.\n",
    "\n",
    "    Parameters:\n",
    "    country (str): The name of the country.\n",
    "\n",
    "    Returns:\n",
    "    str: A JSON string containing the capital of the country.\n",
    "    \"\"\""
   ]
  },
  {
   "cell_type": "code",
   "execution_count": null,
   "metadata": {},
   "outputs": [],
   "source": [
    "def count_letter(word: str, letter: str) -> str:\n",
    "    \"\"\"\n",
    "    Counts the number of occurrences of a specified letter in a word.\n",
    "\n",
    "    Parameters:\n",
    "    word (str): The word to count letters in.\n",
    "    letter (str): The letter to count.\n",
    "    \"\"\""
   ]
  },
  {
   "cell_type": "code",
   "execution_count": null,
   "metadata": {},
   "outputs": [],
   "source": [
    "def calculate_area(length: int | float | str, width: int | float | str, round_result: bool = False) -> str:\n",
    "    \"\"\"\n",
    "    Calculates the area of a rectangle.\n",
    "\n",
    "    Parameters:\n",
    "    length (int | float | str): The length of the rectangle.\n",
    "    width (int | float | str): The width of the rectangle.\n",
    "    round_result (bool, optional): Whether to round the result (default is False).\n",
    "    \"\"\""
   ]
  },
  {
   "cell_type": "code",
   "execution_count": null,
   "metadata": {},
   "outputs": [],
   "source": [
    "def get_timezone(city: str, state: str, country: str, mail_code: str) -> str:\n",
    "    \"\"\"\n",
    "    Determines the timezone for a given location.\n",
    "\n",
    "    Parameters:\n",
    "    city (str): The city of the location.\n",
    "    state (str): The state or province of the location (optional).\n",
    "    country (str): The country of the location.\n",
    "    mail_code (str): The postal code of the location (optional).\n",
    "\n",
    "    Returns:\n",
    "    str: A JSON string containing the timezone or an error message.\n",
    "    \"\"\""
   ]
  },
  {
   "cell_type": "code",
   "execution_count": null,
   "metadata": {},
   "outputs": [],
   "source": [
    "def zodiac_sign(birthday: str) -> str:\n",
    "    \"\"\"\n",
    "    Determines the astrological zodiac sign based on the provided birthday and returns the result as a JSON string.\n",
    "\n",
    "    This function accepts a birthday in 'YYYY-MM-DD' format and calculates the corresponding zodiac sign based on Western astrology.\n",
    "\n",
    "    Args:\n",
    "        birthday (str): The birthday as a string in 'YYYY-MM-DD' format.\n",
    "\n",
    "    Returns:\n",
    "        str: A JSON string with the zodiac sign, or `{\"result\": \"failed\"}` if the input is invalid.\n",
    "    \"\"\""
   ]
  },
  {
   "cell_type": "code",
   "execution_count": null,
   "metadata": {},
   "outputs": [],
   "source": [
    "def date_difference(start_date: str, end_date: str, include_end: bool = False) -> str:\n",
    "    \"\"\"\n",
    "    Calculates the number of days between two dates and returns the result as a JSON string.\n",
    "\n",
    "    This function computes the difference in days between the provided start and end dates,\n",
    "    assuming the date format is '%Y-%m-%d' (e.g., '2023-01-15'). It can optionally include the end date\n",
    "    in the calculation. The result is returned as a JSON string.\n",
    "\n",
    "    Args:\n",
    "        start_date (str): The start date as a string in 'YYYY-MM-DD' format.\n",
    "        end_date (str): The end date as a string in 'YYYY-MM-DD' format.\n",
    "        include_end (bool): Whether to include the end date in the calculation. Defaults to False.\n",
    "\n",
    "    Returns:\n",
    "        str: A JSON string with the number of days between the dates, or `{\"result\": \"failed\"}` if the input is invalid.\n",
    "    \"\"\""
   ]
  },
  {
   "cell_type": "code",
   "execution_count": null,
   "metadata": {},
   "outputs": [],
   "source": [
    "def calculate_tip(total_spend: float, country: str, service: str) -> str:\n",
    "    \"\"\"\n",
    "    Calculates the tip amount based on the total expenditure, country, and service quality, and returns the result as a JSON string.\n",
    "\n",
    "    In Japan and countries in the UK, tipping is not customary, so the tip amount will always be 0.\n",
    "    In North American countries, the tip percentages are:\n",
    "        - 10% for poor service\n",
    "        - 18% for satisfactory service\n",
    "        - 25% for excellent service\n",
    "    For other countries, the tip percentages are:\n",
    "        - 5% for poor service\n",
    "        - 10% for satisfactory service\n",
    "        - 20% for excellent service\n",
    "\n",
    "    Args:\n",
    "        total_spend (float): The total bill amount for the meal.\n",
    "        country (str): The country where the meal is being had.\n",
    "        service (str): The quality of service ('poor', 'satisfactory', 'excellent').\n",
    "\n",
    "    Returns:\n",
    "        str: A JSON string with the tip amount, or `{\"result\": \"failed\"}` if the input is invalid.\n",
    "    \"\"\""
   ]
  },
  {
   "cell_type": "code",
   "execution_count": null,
   "metadata": {},
   "outputs": [],
   "source": [
    "def playlist_duration_calculator(number_of_songs: int, average_song_length: float, include_breaks: bool, break_duration: float) -> str:\n",
    "    \"\"\"\n",
    "    Calculates the total duration of a playlist and returns the result as a JSON string.\n",
    "\n",
    "    This function computes the total duration of a playlist based on the number of songs and the average length of each song.\n",
    "    If breaks are included, it adds the total break time to the overall duration. The durations are in minutes.\n",
    "\n",
    "    Args:\n",
    "        number_of_songs (int): The total number of songs in the playlist.\n",
    "        average_song_length (float): The average length of each song in minutes.\n",
    "        include_breaks (bool): Whether to include breaks between songs.\n",
    "        break_duration (float): The duration of each break in minutes (used only if include_breaks is True).\n",
    "\n",
    "    Returns:\n",
    "        str: A JSON string with the total playlist duration in minutes, or `{\"result\": \"failed\"}` if the input is invalid.\n",
    "    \"\"\""
   ]
  },
  {
   "cell_type": "code",
   "execution_count": null,
   "metadata": {},
   "outputs": [],
   "source": [
    "def sentiment_analysis(text: str) -> str:\n",
    "    \"\"\"\n",
    "    Analyze the sentiment of the given text using the TextBlob library and return the result as a JSON string.\n",
    "\n",
    "    This function computes the sentiment of the input text, providing both polarity and subjectivity.\n",
    "    Polarity measures the positivity or negativity of the text (-1 to 1), and subjectivity measures the\n",
    "    objectivity or subjectivity (0 to 1). The result is returned as a JSON string.\n",
    "    \n",
    "    If the text cannot be processed, the function returns `{\"result\": \"failed\"}`.\n",
    "\n",
    "    Args:\n",
    "        text (str): The input text to analyze.\n",
    "\n",
    "    Returns:\n",
    "        str: A JSON string with the sentiment analysis result, or `{\"result\": \"failed\"}` if the analysis fails.\n",
    "    \"\"\""
   ]
  },
  {
   "cell_type": "code",
   "execution_count": null,
   "metadata": {},
   "outputs": [],
   "source": [
    "def difference_of_squares(a: float, b: float) -> str:\n",
    "    \"\"\"\n",
    "    Compute the difference of squares between two numbers and return the result as a JSON string.\n",
    "\n",
    "    This function calculates the difference between the squares of two numbers (a^2 - b^2).\n",
    "    The result is returned as a JSON string.\n",
    "    \n",
    "    If invalid inputs are provided (non-numeric values), the function returns `{\"result\": \"failed\"}`.\n",
    "\n",
    "    Args:\n",
    "        a (float): The first number.\n",
    "        b (float): The second number.\n",
    "\n",
    "    Returns:\n",
    "        str: A JSON string with the result, or `{\"result\": \"failed\"}` if the input is invalid.\n",
    "    \"\"\""
   ]
  },
  {
   "cell_type": "code",
   "execution_count": null,
   "metadata": {},
   "outputs": [],
   "source": [
    "def simple_interest(principal: float, rate: float, time: float) -> str:\n",
    "    \"\"\"\n",
    "    Calculate the simple interest and return the result as a JSON string.\n",
    "\n",
    "    This function computes the simple interest based on the principal amount, interest rate, \n",
    "    and time period in years. The formula used is: (principal * rate * time) / 100.\n",
    "    The result is returned as a JSON string.\n",
    "\n",
    "    If any of the inputs are invalid (non-numeric values or negative numbers), the function \n",
    "    returns `{\"result\": \"failed\"}`.\n",
    "\n",
    "    Args:\n",
    "        principal (float): The initial amount of money.\n",
    "        rate (float): The interest rate as a percentage.\n",
    "        time (float): The time period in years.\n",
    "\n",
    "    Returns:\n",
    "        str: A JSON string with the calculated simple interest, or `{\"result\": \"failed\"}` if inputs are invalid.\n",
    "    \"\"\""
   ]
  },
  {
   "cell_type": "code",
   "execution_count": null,
   "metadata": {},
   "outputs": [],
   "source": [
    "def password_generator(length: int = 12, use_numbers: bool = True, use_special_chars: bool = True, use_caps: bool = True) -> str:\n",
    "    \"\"\"\n",
    "    Generates a random password with options to include numbers, special characters, and capital letters,\n",
    "    and returns the result as a JSON string.\n",
    "\n",
    "    This function generates a random password of specified length. The password can include lowercase letters,\n",
    "    uppercase letters, numbers, and special characters depending on the given arguments. The result is returned\n",
    "    as a JSON string.\n",
    "\n",
    "    If the length is less than 1, the function returns `{\"result\": \"failed\"}`.\n",
    "\n",
    "    Args:\n",
    "        length (int): The length of the generated password. Defaults to 12.\n",
    "        use_numbers (bool): Whether to include numbers. Defaults to True.\n",
    "        use_special_chars (bool): Whether to include special characters. Defaults to True.\n",
    "        use_caps (bool): Whether to include capital letters. Defaults to True.\n",
    "\n",
    "    Returns:\n",
    "        str: A JSON string with the generated password, or `{\"result\": \"failed\"}` if the input is invalid.\n",
    "    \"\"\""
   ]
  }
 ],
 "metadata": {
  "kernelspec": {
   "display_name": "capstone",
   "language": "python",
   "name": "python3"
  },
  "language_info": {
   "name": "python",
   "version": "3.12.7"
  }
 },
 "nbformat": 4,
 "nbformat_minor": 2
}
