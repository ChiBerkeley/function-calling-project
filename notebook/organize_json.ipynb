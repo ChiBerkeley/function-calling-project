{
 "cells": [
  {
   "cell_type": "code",
   "execution_count": 3,
   "metadata": {},
   "outputs": [],
   "source": [
    "import os\n",
    "import json\n",
    "from glob import glob\n",
    "os.chdir(\"..\")"
   ]
  },
  {
   "cell_type": "code",
   "execution_count": 4,
   "metadata": {},
   "outputs": [
    {
     "data": {
      "text/plain": [
       "['/Users/cs/Desktop/W210/function-calling-project/ks_instruct/dump_json/zodiac_sign.json',\n",
       " '/Users/cs/Desktop/W210/function-calling-project/ks_instruct/dump_json/get_weather_info.json',\n",
       " '/Users/cs/Desktop/W210/function-calling-project/ks_instruct/dump_json/power.json',\n",
       " '/Users/cs/Desktop/W210/function-calling-project/ks_instruct/dump_json/get_capital.json',\n",
       " '/Users/cs/Desktop/W210/function-calling-project/ks_instruct/dump_json/calculate_trip_cost.json',\n",
       " '/Users/cs/Desktop/W210/function-calling-project/ks_instruct/dump_json/count_letter.json',\n",
       " '/Users/cs/Desktop/W210/function-calling-project/ks_instruct/dump_json/calculate_bmi.json',\n",
       " '/Users/cs/Desktop/W210/function-calling-project/ks_instruct/dump_json/get_timezone.json',\n",
       " '/Users/cs/Desktop/W210/function-calling-project/ks_instruct/dump_json/calculate_area.json']"
      ]
     },
     "execution_count": 4,
     "metadata": {},
     "output_type": "execute_result"
    }
   ],
   "source": [
    "path = \"/Users/cs/Desktop/W210/function-calling-project/ks_instruct/dump_json/calculate_area individual files\"\n",
    "json_list = glob('/Users/cs/Desktop/W210/function-calling-project/ks_instruct/dump_json/*.json')\n",
    "json_list"
   ]
  },
  {
   "cell_type": "code",
   "execution_count": 5,
   "metadata": {},
   "outputs": [],
   "source": [
    "queries = []\n",
    "answers = []\n",
    "for file_path in json_list[0:]:\n",
    "    with open(file_path, 'r') as file:\n",
    "        text = json.load(file)\n",
    "        text = text[\"queries\"]\n",
    "        for item in text:\n",
    "            queries.append(item[\"query\"])\n",
    "            answers.append(json.dumps(item[\"answer\"]))\n",
    "        "
   ]
  },
  {
   "cell_type": "code",
   "execution_count": 6,
   "metadata": {},
   "outputs": [
    {
     "name": "stdout",
     "output_type": "stream",
     "text": [
      "there are 5867 rows at the beginning\n"
     ]
    }
   ],
   "source": [
    "import pandas as pd\n",
    "\n",
    "# check schema \n",
    "df = pd.DataFrame({\"queries\": queries, \"answers\": answers})\n",
    "df[\"functions\"] = df[\"answers\"].apply(lambda x: json.loads(x).get(\"function\", None))\n",
    "\n",
    "print(f\"there are {len(df)} rows at the beginning\")"
   ]
  },
  {
   "cell_type": "code",
   "execution_count": 7,
   "metadata": {},
   "outputs": [
    {
     "name": "stdout",
     "output_type": "stream",
     "text": [
      "there are 5866 after filtering out non function\n"
     ]
    }
   ],
   "source": [
    "#filtered non function\n",
    "df = df[~df[\"functions\"].isna()]\n",
    "print(f\"there are {len(df)} after filtering out non function\")\n"
   ]
  },
  {
   "cell_type": "code",
   "execution_count": 8,
   "metadata": {},
   "outputs": [
    {
     "name": "stdout",
     "output_type": "stream",
     "text": [
      "there are 5866 has arguments keys\n"
     ]
    }
   ],
   "source": [
    "# filter arguments\n",
    "df[\"arguments\"] = df[\"answers\"].apply(lambda x: json.loads(x).get(\"arguments\", None))\n",
    "df = df[~df[\"arguments\"].isna()]\n",
    "# df[\"arguments\"] = df[\"arguments\"].apply(json.dumps)\n",
    "\n",
    "print(f\"there are {len(df)} has arguments keys\")\n"
   ]
  },
  {
   "cell_type": "code",
   "execution_count": 10,
   "metadata": {},
   "outputs": [],
   "source": [
    "from src.chi_functions import *\n",
    "# from src.edward_functions import *\n",
    "from src.MT_functions import * \n",
    "from src.kevin_function import * \n",
    "\n",
    "\n",
    "def call_function(info: pd.DataFrame):\n",
    "    try:\n",
    "        query = info[\"queries\"]\n",
    "        func_to_call = eval(info[\"functions\"])\n",
    "        arguments = json.loads(info[\"arguments\"])\n",
    "        return {\"query\": query, \"output\": func_to_call(**arguments)}\n",
    "    except:\n",
    "        return None\n",
    "df[\"is_callable\"] = df.apply(lambda x: call_function(x), axis=1)\n",
    "\n"
   ]
  },
  {
   "cell_type": "code",
   "execution_count": 11,
   "metadata": {},
   "outputs": [
    {
     "data": {
      "text/html": [
       "<div>\n",
       "<style scoped>\n",
       "    .dataframe tbody tr th:only-of-type {\n",
       "        vertical-align: middle;\n",
       "    }\n",
       "\n",
       "    .dataframe tbody tr th {\n",
       "        vertical-align: top;\n",
       "    }\n",
       "\n",
       "    .dataframe thead th {\n",
       "        text-align: right;\n",
       "    }\n",
       "</style>\n",
       "<table border=\"1\" class=\"dataframe\">\n",
       "  <thead>\n",
       "    <tr style=\"text-align: right;\">\n",
       "      <th></th>\n",
       "      <th>queries</th>\n",
       "      <th>answers</th>\n",
       "      <th>functions</th>\n",
       "      <th>arguments</th>\n",
       "      <th>is_callable</th>\n",
       "    </tr>\n",
       "  </thead>\n",
       "  <tbody>\n",
       "    <tr>\n",
       "      <th>0</th>\n",
       "      <td>What is my zodiac sign if I was born on 1999-0...</td>\n",
       "      <td>{\"function\": \"zodiac_sign\", \"arguments\": {\"bir...</td>\n",
       "      <td>zodiac_sign</td>\n",
       "      <td>{'birthday': '1999-02-27'}</td>\n",
       "      <td>None</td>\n",
       "    </tr>\n",
       "    <tr>\n",
       "      <th>1</th>\n",
       "      <td>What would be the zodiac sign of someone born ...</td>\n",
       "      <td>{\"function\": \"zodiac_sign\", \"arguments\": {\"bir...</td>\n",
       "      <td>zodiac_sign</td>\n",
       "      <td>{'birthday': '1985-08-12'}</td>\n",
       "      <td>None</td>\n",
       "    </tr>\n",
       "    <tr>\n",
       "      <th>2</th>\n",
       "      <td>Is my zodiac sign Aries if I was born on 2001-...</td>\n",
       "      <td>{\"function\": \"zodiac_sign\", \"arguments\": {\"bir...</td>\n",
       "      <td>zodiac_sign</td>\n",
       "      <td>{'birthday': '2001-03-22'}</td>\n",
       "      <td>None</td>\n",
       "    </tr>\n",
       "    <tr>\n",
       "      <th>3</th>\n",
       "      <td>What is the zodiac sign of someone who was bor...</td>\n",
       "      <td>{\"function\": \"zodiac_sign\", \"arguments\": {\"bir...</td>\n",
       "      <td>zodiac_sign</td>\n",
       "      <td>{'birthday': '1993-11-16'}</td>\n",
       "      <td>None</td>\n",
       "    </tr>\n",
       "    <tr>\n",
       "      <th>4</th>\n",
       "      <td>Can you tell me my zodiac sign if I was born o...</td>\n",
       "      <td>{\"function\": \"zodiac_sign\", \"arguments\": {\"bir...</td>\n",
       "      <td>zodiac_sign</td>\n",
       "      <td>{'birthday': '1988-06-25'}</td>\n",
       "      <td>None</td>\n",
       "    </tr>\n",
       "    <tr>\n",
       "      <th>...</th>\n",
       "      <td>...</td>\n",
       "      <td>...</td>\n",
       "      <td>...</td>\n",
       "      <td>...</td>\n",
       "      <td>...</td>\n",
       "    </tr>\n",
       "    <tr>\n",
       "      <th>5862</th>\n",
       "      <td>What is the area of a rectangle with length 5....</td>\n",
       "      <td>{\"function\": \"calculate_area\", \"arguments\": {\"...</td>\n",
       "      <td>calculate_area</td>\n",
       "      <td>{'length': '5.67', 'width': '7.49', 'round_res...</td>\n",
       "      <td>None</td>\n",
       "    </tr>\n",
       "    <tr>\n",
       "      <th>5863</th>\n",
       "      <td>What is the area of a rectangle with length 3....</td>\n",
       "      <td>{\"function\": \"calculate_area\", \"arguments\": {\"...</td>\n",
       "      <td>calculate_area</td>\n",
       "      <td>{'length': '3.19', 'width': '6.75', 'round_res...</td>\n",
       "      <td>None</td>\n",
       "    </tr>\n",
       "    <tr>\n",
       "      <th>5864</th>\n",
       "      <td>What is the area of a rectangle with length 1....</td>\n",
       "      <td>{\"function\": \"calculate_area\", \"arguments\": {\"...</td>\n",
       "      <td>calculate_area</td>\n",
       "      <td>{'length': '1.01', 'width': '8.93', 'round_res...</td>\n",
       "      <td>None</td>\n",
       "    </tr>\n",
       "    <tr>\n",
       "      <th>5865</th>\n",
       "      <td>What is the area of a rectangle with length 9....</td>\n",
       "      <td>{\"function\": \"calculate_area\", \"arguments\": {\"...</td>\n",
       "      <td>calculate_area</td>\n",
       "      <td>{'length': '9.82', 'width': '7.49', 'round_res...</td>\n",
       "      <td>None</td>\n",
       "    </tr>\n",
       "    <tr>\n",
       "      <th>5866</th>\n",
       "      <td>What is the area of a rectangle with length 8....</td>\n",
       "      <td>{\"function\": \"calculate_area\", \"arguments\": {\"...</td>\n",
       "      <td>calculate_area</td>\n",
       "      <td>{'length': '8.93', 'width': '4.02', 'round_res...</td>\n",
       "      <td>None</td>\n",
       "    </tr>\n",
       "  </tbody>\n",
       "</table>\n",
       "<p>5866 rows × 5 columns</p>\n",
       "</div>"
      ],
      "text/plain": [
       "                                                queries  \\\n",
       "0     What is my zodiac sign if I was born on 1999-0...   \n",
       "1     What would be the zodiac sign of someone born ...   \n",
       "2     Is my zodiac sign Aries if I was born on 2001-...   \n",
       "3     What is the zodiac sign of someone who was bor...   \n",
       "4     Can you tell me my zodiac sign if I was born o...   \n",
       "...                                                 ...   \n",
       "5862  What is the area of a rectangle with length 5....   \n",
       "5863  What is the area of a rectangle with length 3....   \n",
       "5864  What is the area of a rectangle with length 1....   \n",
       "5865  What is the area of a rectangle with length 9....   \n",
       "5866  What is the area of a rectangle with length 8....   \n",
       "\n",
       "                                                answers       functions  \\\n",
       "0     {\"function\": \"zodiac_sign\", \"arguments\": {\"bir...     zodiac_sign   \n",
       "1     {\"function\": \"zodiac_sign\", \"arguments\": {\"bir...     zodiac_sign   \n",
       "2     {\"function\": \"zodiac_sign\", \"arguments\": {\"bir...     zodiac_sign   \n",
       "3     {\"function\": \"zodiac_sign\", \"arguments\": {\"bir...     zodiac_sign   \n",
       "4     {\"function\": \"zodiac_sign\", \"arguments\": {\"bir...     zodiac_sign   \n",
       "...                                                 ...             ...   \n",
       "5862  {\"function\": \"calculate_area\", \"arguments\": {\"...  calculate_area   \n",
       "5863  {\"function\": \"calculate_area\", \"arguments\": {\"...  calculate_area   \n",
       "5864  {\"function\": \"calculate_area\", \"arguments\": {\"...  calculate_area   \n",
       "5865  {\"function\": \"calculate_area\", \"arguments\": {\"...  calculate_area   \n",
       "5866  {\"function\": \"calculate_area\", \"arguments\": {\"...  calculate_area   \n",
       "\n",
       "                                              arguments is_callable  \n",
       "0                            {'birthday': '1999-02-27'}        None  \n",
       "1                            {'birthday': '1985-08-12'}        None  \n",
       "2                            {'birthday': '2001-03-22'}        None  \n",
       "3                            {'birthday': '1993-11-16'}        None  \n",
       "4                            {'birthday': '1988-06-25'}        None  \n",
       "...                                                 ...         ...  \n",
       "5862  {'length': '5.67', 'width': '7.49', 'round_res...        None  \n",
       "5863  {'length': '3.19', 'width': '6.75', 'round_res...        None  \n",
       "5864  {'length': '1.01', 'width': '8.93', 'round_res...        None  \n",
       "5865  {'length': '9.82', 'width': '7.49', 'round_res...        None  \n",
       "5866  {'length': '8.93', 'width': '4.02', 'round_res...        None  \n",
       "\n",
       "[5866 rows x 5 columns]"
      ]
     },
     "execution_count": 11,
     "metadata": {},
     "output_type": "execute_result"
    }
   ],
   "source": [
    "zodiac_sign"
   ]
  },
  {
   "cell_type": "code",
   "execution_count": 48,
   "metadata": {},
   "outputs": [
    {
     "data": {
      "text/plain": [
       "'/Users/cs/Desktop/W210/function-calling-project/notebook'"
      ]
     },
     "execution_count": 48,
     "metadata": {},
     "output_type": "execute_result"
    }
   ],
   "source": [
    "os.getcwd()"
   ]
  },
  {
   "cell_type": "code",
   "execution_count": null,
   "metadata": {},
   "outputs": [],
   "source": []
  }
 ],
 "metadata": {
  "kernelspec": {
   "display_name": "function-calling-project-_d8EX7TE-py3.12",
   "language": "python",
   "name": "python3"
  },
  "language_info": {
   "codemirror_mode": {
    "name": "ipython",
    "version": 3
   },
   "file_extension": ".py",
   "mimetype": "text/x-python",
   "name": "python",
   "nbconvert_exporter": "python",
   "pygments_lexer": "ipython3",
   "version": "3.12.3"
  }
 },
 "nbformat": 4,
 "nbformat_minor": 2
}
