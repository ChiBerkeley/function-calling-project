{
 "cells": [
  {
   "cell_type": "code",
   "execution_count": 1,
   "metadata": {},
   "outputs": [
    {
     "data": {
      "text/plain": [
       "'/Users/cso/Desktop/repo/function-calling-project'"
      ]
     },
     "execution_count": 1,
     "metadata": {},
     "output_type": "execute_result"
    }
   ],
   "source": [
    "# try calling evaluation\n",
    "import os\n",
    "import json\n",
    "\n",
    "import pandas as pd\n",
    "\n",
    "os.chdir(\"..\")\n",
    "from src.evaluation import get_relevancy, calculate_mean_similiarity\n",
    "import warnings\n",
    "warnings.filterwarnings('ignore')\n",
    "# from src.kevin_function import * \n",
    "os.getcwd()"
   ]
  },
  {
   "cell_type": "code",
   "execution_count": 2,
   "metadata": {},
   "outputs": [
    {
     "data": {
      "text/plain": [
       "[{'query': \"How many times does the letter 'a' appear in the word 'banana'?\",\n",
       "  'answer': {'function': 'count_letter',\n",
       "   'arguments': {'word': 'banana', 'letter': 'a'},\n",
       "   'result': {'result': '3'}}},\n",
       " {'query': \"How many times does the letter 'e' appear in the word 'computer'?\",\n",
       "  'answer': {'function': 'count_letter',\n",
       "   'arguments': {'word': 'computer', 'letter': 'e'},\n",
       "   'result': {'result': '2'}}},\n",
       " {'query': \"How many times does the letter 't' appear in the word 'telescope'?\",\n",
       "  'answer': {'function': 'count_letter',\n",
       "   'arguments': {'word': 'telescope', 'letter': 't'},\n",
       "   'result': {'result': '2'}}},\n",
       " {'query': \"How many times does the letter 'r' appear in the word 'rainbow'?\",\n",
       "  'answer': {'function': 'count_letter',\n",
       "   'arguments': {'word': 'rainbow', 'letter': 'r'},\n",
       "   'result': {'result': '2'}}},\n",
       " {'query': \"How many times does the letter 'o' appear in the word 'ocean'?\",\n",
       "  'answer': {'function': 'count_letter',\n",
       "   'arguments': {'word': 'ocean', 'letter': 'o'},\n",
       "   'result': {'result': '2'}}},\n",
       " {'query': \"How many times does the letter 'b' appear in the word 'bubble'?\",\n",
       "  'answer': {'function': 'count_letter',\n",
       "   'arguments': {'word': 'bubble', 'letter': 'b'},\n",
       "   'result': {'result': '2'}}},\n",
       " {'query': \"How many times does the letter 'p' appear in the word 'paper'?\",\n",
       "  'answer': {'function': 'count_letter',\n",
       "   'arguments': {'word': 'paper', 'letter': 'p'},\n",
       "   'result': {'result': '1'}}},\n",
       " {'query': \"How many times does the letter 's' appear in the word 'space'?\",\n",
       "  'answer': {'function': 'count_letter',\n",
       "   'arguments': {'word': 'space', 'letter': 's'},\n",
       "   'result': {'result': '1'}}},\n",
       " {'query': \"How many times does the letter 'd' appear in the word 'dog'?\",\n",
       "  'answer': {'function': 'count_letter',\n",
       "   'arguments': {'word': 'dog', 'letter': 'd'},\n",
       "   'result': {'result': '1'}}},\n",
       " {'query': \"How many times does the letter 'f' appear in the word 'fish'?\",\n",
       "  'answer': {'function': 'count_letter',\n",
       "   'arguments': {'word': 'fish', 'letter': 'f'},\n",
       "   'result': {'result': '1'}}},\n",
       " {'query': \"How many times does the letter 'c' appear in the word 'cat'?\",\n",
       "  'answer': {'function': 'count_letter',\n",
       "   'arguments': {'word': 'cat', 'letter': 'c'},\n",
       "   'result': {'result': '1'}}},\n",
       " {'query': \"How many times does the letter 'h' appear in the word 'house'?\",\n",
       "  'answer': {'function': 'count_letter',\n",
       "   'arguments': {'word': 'house', 'letter': 'h'},\n",
       "   'result': {'result': '1'}}},\n",
       " {'query': \"How many times does the letter 'm' appear in the word 'mouse'?\",\n",
       "  'answer': {'function': 'count_letter',\n",
       "   'arguments': {'word': 'mouse', 'letter': 'm'},\n",
       "   'result': {'result': '1'}}},\n",
       " {'query': \"How many times does the letter 'n' appear in the word 'nest'?\",\n",
       "  'answer': {'function': 'count_letter',\n",
       "   'arguments': {'word': 'nest', 'letter': 'n'},\n",
       "   'result': {'result': '1'}}},\n",
       " {'query': \"How many times does the letter 'v' appear in the word 'vase'?\",\n",
       "  'answer': {'function': 'count_letter',\n",
       "   'arguments': {'word': 'vase', 'letter': 'v'},\n",
       "   'result': {'result': '1'}}},\n",
       " {'query': \"How many times does the letter 'z' appear in the word 'zebra'?\",\n",
       "  'answer': {'function': 'count_letter',\n",
       "   'arguments': {'word': 'zebra', 'letter': 'z'},\n",
       "   'result': {'result': '1'}}},\n",
       " {'query': \"How many times does the letter 'q' appear in the word 'queen'?\",\n",
       "  'answer': {'function': 'count_letter',\n",
       "   'arguments': {'word': 'queen', 'letter': 'q'},\n",
       "   'result': {'result': '1'}}},\n",
       " {'query': \"How many times does the letter 'j' appear in the word 'jug'?\",\n",
       "  'answer': {'function': 'count_letter',\n",
       "   'arguments': {'word': 'jug', 'letter': 'j'},\n",
       "   'result': {'result': '1'}}},\n",
       " {'query': \"How many times does the letter 'k' appear in the word 'kite'?\",\n",
       "  'answer': {'function': 'count_letter',\n",
       "   'arguments': {'word': 'kite', 'letter': 'k'},\n",
       "   'result': {'result': '1'}}},\n",
       " {'query': \"How many times does the letter 'x' appear in the word 'fox'?\",\n",
       "  'answer': {'function': 'count_letter',\n",
       "   'arguments': {'word': 'fox', 'letter': 'x'},\n",
       "   'result': {'result': '1'}}},\n",
       " {'query': \"How many times does the letter 'y' appear in the word 'yes'?\",\n",
       "  'answer': {'function': 'count_letter',\n",
       "   'arguments': {'word': 'yes', 'letter': 'y'},\n",
       "   'result': {'result': '1'}}},\n",
       " {'query': \"How many times does the letter 'u' appear in the word 'umbrella'?\",\n",
       "  'answer': {'function': 'count_letter',\n",
       "   'arguments': {'word': 'umbrella', 'letter': 'u'},\n",
       "   'result': {'result': '1'}}},\n",
       " {'query': \"How many times does the letter 'e' appear in the word 'elephant'?\",\n",
       "  'answer': {'function': 'count_letter',\n",
       "   'arguments': {'word': 'elephant', 'letter': 'e'},\n",
       "   'result': {'result': '1'}}},\n",
       " {'query': \"How many times does the letter 'a' appear in the word 'apple'?\",\n",
       "  'answer': {'function': 'count_letter',\n",
       "   'arguments': {'word': 'apple', 'letter': 'a'},\n",
       "   'result': {'result': '1'}}},\n",
       " {'query': \"How many times does the letter 'i' appear in the word 'igloo'?\",\n",
       "  'answer': {'function': 'count_letter',\n",
       "   'arguments': {'word': 'igloo', 'letter': 'i'},\n",
       "   'result': {'result': '1'}}},\n",
       " {'query': \"How many times does the letter 'w' appear in the word 'whale'?\",\n",
       "  'answer': {'function': 'count_letter',\n",
       "   'arguments': {'word': 'whale', 'letter': 'w'},\n",
       "   'result': {'result': '1'}}},\n",
       " {'query': \"How many times does the letter 'g' appear in the word 'girl'?\",\n",
       "  'answer': {'function': 'count_letter',\n",
       "   'arguments': {'word': 'girl', 'letter': 'g'},\n",
       "   'result': {'result': '1'}}},\n",
       " {'query': \"How many times does the letter 'l' appear in the word 'lion'?\",\n",
       "  'answer': {'function': 'count_letter',\n",
       "   'arguments': {'word': 'lion', 'letter': 'l'},\n",
       "   'result': {'result': '1'}}},\n",
       " {'query': \"How many times does the letter 'o' appear in the word 'ocean'?\",\n",
       "  'answer': {'function': 'count_letter',\n",
       "   'arguments': {'word': 'ocean', 'letter': 'o'},\n",
       "   'result': {'result': '1'}}},\n",
       " {'query': \"How many times does the letter 'p' appear in the word 'paper'?\",\n",
       "  'answer': {'function': 'count_letter',\n",
       "   'arguments': {'word': 'paper', 'letter': 'p'},\n",
       "   'result': {'result': '1'}}},\n",
       " {'query': \"How many times does the letter 't' appear in the word 'tree'?\",\n",
       "  'answer': {'function': 'count_letter',\n",
       "   'arguments': {'word': 'tree', 'letter': 't'},\n",
       "   'result': {'result': '1'}}},\n",
       " {'query': \"How many times does the letter 'r' appear in the word 'rainbow'?\",\n",
       "  'answer': {'function': 'count_letter',\n",
       "   'arguments': {'word': 'rainbow', 'letter': 'r'},\n",
       "   'result': {'result': '1'}}},\n",
       " {'query': \"How many times does the letter 's' appear in the word 'sunshine'?\",\n",
       "  'answer': {'function': 'count_letter',\n",
       "   'arguments': {'word': 'sunshine', 'letter': 's'},\n",
       "   'result': {'result': '1'}}},\n",
       " {'query': \"How many times does the letter 'f' appear in the word 'flower'?\",\n",
       "  'answer': {'function': 'count_letter',\n",
       "   'arguments': {'word': 'flower', 'letter': 'f'},\n",
       "   'result': {'result': '1'}}},\n",
       " {'query': \"How many times does the letter 'h' appear in the word 'house'?\",\n",
       "  'answer': {'function': 'count_letter',\n",
       "   'arguments': {'word': 'house', 'letter': 'h'},\n",
       "   'result': {'result': '1'}}},\n",
       " {'query': \"How many times does the letter 'c' appear in the word 'cloud'?\",\n",
       "  'answer': {'function': 'count_letter',\n",
       "   'arguments': {'word': 'cloud', 'letter': 'c'},\n",
       "   'result': {'result': '1'}}},\n",
       " {'query': \"How many times does the letter 'm' appear in the word 'moments'?\",\n",
       "  'answer': {'function': 'count_letter',\n",
       "   'arguments': {'word': 'moments', 'letter': 'm'},\n",
       "   'result': {'result': '1'}}},\n",
       " {'query': \"How many times does the letter 'v' appear in the word 'victory'?\",\n",
       "  'answer': {'function': 'count_letter',\n",
       "   'arguments': {'word': 'victory', 'letter': 'v'},\n",
       "   'result': {'result': '1'}}},\n",
       " {'query': \"How many times does the letter 'b' appear in the word 'bubble'?\",\n",
       "  'answer': {'function': 'count_letter',\n",
       "   'arguments': {'word': 'bubble', 'letter': 'b'},\n",
       "   'result': {'result': '1'}}},\n",
       " {'query': \"How many times does the letter 'd' appear in the word 'dance'?\",\n",
       "  'answer': {'function': 'count_letter',\n",
       "   'arguments': {'word': 'dance', 'letter': 'd'},\n",
       "   'result': {'result': '1'}}},\n",
       " {'query': \"How many times does the letter 'z' appear in the word 'zebra'?\",\n",
       "  'answer': {'function': 'count_letter',\n",
       "   'arguments': {'word': 'zebra', 'letter': 'z'},\n",
       "   'result': {'result': '1'}}},\n",
       " {'query': \"How many times does the letter 'n' appear in the word 'night'?\",\n",
       "  'answer': {'function': 'count_letter',\n",
       "   'arguments': {'word': 'night', 'letter': 'n'},\n",
       "   'result': {'result': '1'}}},\n",
       " {'query': \"How many times does the letter 'p' appear in the word 'pink'?\",\n",
       "  'answer': {'function': 'count_letter',\n",
       "   'arguments': {'word': 'pink', 'letter': 'p'},\n",
       "   'result': {'result': '1'}}},\n",
       " {'query': \"How many times does the letter 'q' appear in the word 'queen'?\",\n",
       "  'answer': {'function': 'count_letter',\n",
       "   'arguments': {'word': 'queen', 'letter': 'q'},\n",
       "   'result': {'result': '1'}}},\n",
       " {'query': \"How many times does the letter 'w' appear in the word 'water'?\",\n",
       "  'answer': {'function': 'count_letter',\n",
       "   'arguments': {'word': 'water', 'letter': 'w'},\n",
       "   'result': {'result': '1'}}},\n",
       " {'query': \"How many times does the letter 'x' appear in the word 'xylophone'?\",\n",
       "  'answer': {'function': 'count_letter',\n",
       "   'arguments': {'word': 'xylophone', 'letter': 'x'},\n",
       "   'result': {'result': '1'}}},\n",
       " {'query': \"How many times does the letter 'y' appear in the word 'yacht'?\",\n",
       "  'answer': {'function': 'count_letter',\n",
       "   'arguments': {'word': 'yacht', 'letter': 'y'},\n",
       "   'result': {'result': '1'}}},\n",
       " {'query': \"How many times does the letter 'u' appear in the word 'umbrella'?\",\n",
       "  'answer': {'function': 'count_letter',\n",
       "   'arguments': {'word': 'umbrella', 'letter': 'u'},\n",
       "   'result': {'result': '1'}}},\n",
       " {'query': \"How many times does the letter 'j' appear in the word 'jester'?\",\n",
       "  'answer': {'function': 'count_letter',\n",
       "   'arguments': {'word': 'jester', 'letter': 'j'},\n",
       "   'result': {'result': '1'}}},\n",
       " {'query': \"How many times does the letter 'k' appear in the word 'knight'?\",\n",
       "  'answer': {'function': 'count_letter',\n",
       "   'arguments': {'word': 'knight', 'letter': 'k'},\n",
       "   'result': {'result': '1'}}},\n",
       " {'query': \"How many times does the letter 'i' appear in the word 'igloo'?\",\n",
       "  'answer': {'function': 'count_letter',\n",
       "   'arguments': {'word': 'igloo', 'letter': 'i'},\n",
       "   'result': {'result': '1'}}},\n",
       " {'query': \"How many times does the letter 'a' appear in the word 'apple'?\",\n",
       "  'answer': {'function': 'count_letter',\n",
       "   'arguments': {'word': 'apple', 'letter': 'a'},\n",
       "   'result': {'result': '1'}}},\n",
       " {'query': \"How many times does the letter 'e' appear in the word 'elephant'?\",\n",
       "  'answer': {'function': 'count_letter',\n",
       "   'arguments': {'word': 'elephant', 'letter': 'e'},\n",
       "   'result': {'result': '1'}}},\n",
       " {'query': \"How many times does the letter 'o' appear in the word 'ocean'?\",\n",
       "  'answer': {'function': 'count_letter',\n",
       "   'arguments': {'word': 'ocean', 'letter': 'o'},\n",
       "   'result': {'result': '1'}}},\n",
       " {'query': \"How many times does the letter 'l' appear in the word 'lake'?\",\n",
       "  'answer': {'function': 'count_letter',\n",
       "   'arguments': {'word': 'lake', 'letter': 'l'},\n",
       "   'result': {'result': '1'}}},\n",
       " {'query': \"How many times does the letter 'g' appear in the word 'goose'?\",\n",
       "  'answer': {'function': 'count_letter',\n",
       "   'arguments': {'word': 'goose', 'letter': 'g'},\n",
       "   'result': {'result': '1'}}},\n",
       " {'query': \"How many times does the letter 'T' appear in the word 'tiger'?\",\n",
       "  'answer': {'function': 'count_letter',\n",
       "   'arguments': {'word': 'tiger', 'letter': 'T'},\n",
       "   'result': {'result': '1'}}},\n",
       " {'query': \"How many times does the letter 'S' appear in the word 'snake'?\",\n",
       "  'answer': {'function': 'count_letter',\n",
       "   'arguments': {'word': 'snake', 'letter': 'S'},\n",
       "   'result': {'result': '1'}}},\n",
       " {'query': \"How many times does the letter 'P' appear in the word 'penguin'?\",\n",
       "  'answer': {'function': 'count_letter',\n",
       "   'arguments': {'word': 'penguin', 'letter': 'P'},\n",
       "   'result': {'result': '1'}}},\n",
       " {'query': \"How many times does the letter 'C' appear in the word 'chameleon'?\",\n",
       "  'answer': {'function': 'count_letter',\n",
       "   'arguments': {'word': 'chameleon', 'letter': 'C'},\n",
       "   'result': {'result': '1'}}},\n",
       " {'query': \"How many times does the letter 'M' appear in the word 'monkey'?\",\n",
       "  'answer': {'function': 'count_letter',\n",
       "   'arguments': {'word': 'monkey', 'letter': 'M'},\n",
       "   'result': {'result': '1'}}},\n",
       " {'query': \"How many times does the letter 'N' appear in the word 'ninja'?\",\n",
       "  'answer': {'function': 'count_letter',\n",
       "   'arguments': {'word': 'ninja', 'letter': 'N'},\n",
       "   'result': {'result': '1'}}},\n",
       " {'query': \"How many times does the letter 'F' appear in the word 'fox'?\",\n",
       "  'answer': {'function': 'count_letter',\n",
       "   'arguments': {'word': 'fox', 'letter': 'F'},\n",
       "   'result': {'result': '1'}}},\n",
       " {'query': \"How many times does the letter 'H' appear in the word 'hen'?\",\n",
       "  'answer': {'function': 'count_letter',\n",
       "   'arguments': {'word': 'hen', 'letter': 'H'},\n",
       "   'result': {'result': '1'}}},\n",
       " {'query': \"How many times does the letter 'R' appear in the word 'rhino'?\",\n",
       "  'answer': {'function': 'count_letter',\n",
       "   'arguments': {'word': 'rhino', 'letter': 'R'},\n",
       "   'result': {'result': '1'}}},\n",
       " {'query': \"How many times does the letter 'D' appear in the word 'dog'?\",\n",
       "  'answer': {'function': 'count_letter',\n",
       "   'arguments': {'word': 'dog', 'letter': 'D'},\n",
       "   'result': {'result': '1'}}},\n",
       " {'query': \"How many times does the letter 'V' appear in the word 'vulture'?\",\n",
       "  'answer': {'function': 'count_letter',\n",
       "   'arguments': {'word': 'vulture', 'letter': 'V'},\n",
       "   'result': {'result': '1'}}},\n",
       " {'query': \"How many times does the letter 'Z' appear in the word 'zebra'?\",\n",
       "  'answer': {'function': 'count_letter',\n",
       "   'arguments': {'word': 'zebra', 'letter': 'Z'},\n",
       "   'result': {'result': '1'}}}]"
      ]
     },
     "execution_count": 2,
     "metadata": {},
     "output_type": "execute_result"
    }
   ],
   "source": [
    "with open(\"ks_instruct/test.txt\", \"r\") as file:\n",
    "    texts = json.load(file)\n",
    "texts\n"
   ]
  },
  {
   "cell_type": "code",
   "execution_count": 3,
   "metadata": {},
   "outputs": [
    {
     "data": {
      "text/html": [
       "<pre style=\"white-space:pre;overflow-x:auto;line-height:normal;font-family:Menlo,'DejaVu Sans Mono',consolas,'Courier New',monospace\">Event loop is already running. Applying nest_asyncio patch to allow async execution...\n",
       "</pre>\n"
      ],
      "text/plain": [
       "Event loop is already running. Applying nest_asyncio patch to allow async execution...\n"
      ]
     },
     "metadata": {},
     "output_type": "display_data"
    },
    {
     "data": {
      "text/html": [
       "<pre style=\"white-space:pre;overflow-x:auto;line-height:normal;font-family:Menlo,'DejaVu Sans Mono',consolas,'Courier New',monospace\"></pre>\n"
      ],
      "text/plain": []
     },
     "metadata": {},
     "output_type": "display_data"
    },
    {
     "data": {
      "text/html": [
       "<pre style=\"white-space:pre;overflow-x:auto;line-height:normal;font-family:Menlo,'DejaVu Sans Mono',consolas,'Courier New',monospace\">Event loop is already running. Applying nest_asyncio patch to allow async execution...\n",
       "</pre>\n"
      ],
      "text/plain": [
       "Event loop is already running. Applying nest_asyncio patch to allow async execution...\n"
      ]
     },
     "metadata": {},
     "output_type": "display_data"
    },
    {
     "data": {
      "text/html": [
       "<pre style=\"white-space:pre;overflow-x:auto;line-height:normal;font-family:Menlo,'DejaVu Sans Mono',consolas,'Courier New',monospace\"></pre>\n"
      ],
      "text/plain": []
     },
     "metadata": {},
     "output_type": "display_data"
    },
    {
     "data": {
      "text/html": [
       "<pre style=\"white-space:pre;overflow-x:auto;line-height:normal;font-family:Menlo,'DejaVu Sans Mono',consolas,'Courier New',monospace\">Event loop is already running. Applying nest_asyncio patch to allow async execution...\n",
       "</pre>\n"
      ],
      "text/plain": [
       "Event loop is already running. Applying nest_asyncio patch to allow async execution...\n"
      ]
     },
     "metadata": {},
     "output_type": "display_data"
    },
    {
     "data": {
      "text/html": [
       "<pre style=\"white-space:pre;overflow-x:auto;line-height:normal;font-family:Menlo,'DejaVu Sans Mono',consolas,'Courier New',monospace\"></pre>\n"
      ],
      "text/plain": []
     },
     "metadata": {},
     "output_type": "display_data"
    },
    {
     "data": {
      "text/html": [
       "<pre style=\"white-space:pre;overflow-x:auto;line-height:normal;font-family:Menlo,'DejaVu Sans Mono',consolas,'Courier New',monospace\">Event loop is already running. Applying nest_asyncio patch to allow async execution...\n",
       "</pre>\n"
      ],
      "text/plain": [
       "Event loop is already running. Applying nest_asyncio patch to allow async execution...\n"
      ]
     },
     "metadata": {},
     "output_type": "display_data"
    },
    {
     "data": {
      "text/html": [
       "<pre style=\"white-space:pre;overflow-x:auto;line-height:normal;font-family:Menlo,'DejaVu Sans Mono',consolas,'Courier New',monospace\"></pre>\n"
      ],
      "text/plain": []
     },
     "metadata": {},
     "output_type": "display_data"
    },
    {
     "data": {
      "text/html": [
       "<pre style=\"white-space:pre;overflow-x:auto;line-height:normal;font-family:Menlo,'DejaVu Sans Mono',consolas,'Courier New',monospace\">Event loop is already running. Applying nest_asyncio patch to allow async execution...\n",
       "</pre>\n"
      ],
      "text/plain": [
       "Event loop is already running. Applying nest_asyncio patch to allow async execution...\n"
      ]
     },
     "metadata": {},
     "output_type": "display_data"
    },
    {
     "data": {
      "text/html": [
       "<pre style=\"white-space:pre;overflow-x:auto;line-height:normal;font-family:Menlo,'DejaVu Sans Mono',consolas,'Courier New',monospace\"></pre>\n"
      ],
      "text/plain": []
     },
     "metadata": {},
     "output_type": "display_data"
    },
    {
     "data": {
      "text/html": [
       "<pre style=\"white-space:pre;overflow-x:auto;line-height:normal;font-family:Menlo,'DejaVu Sans Mono',consolas,'Courier New',monospace\">Event loop is already running. Applying nest_asyncio patch to allow async execution...\n",
       "</pre>\n"
      ],
      "text/plain": [
       "Event loop is already running. Applying nest_asyncio patch to allow async execution...\n"
      ]
     },
     "metadata": {},
     "output_type": "display_data"
    },
    {
     "data": {
      "text/html": [
       "<pre style=\"white-space:pre;overflow-x:auto;line-height:normal;font-family:Menlo,'DejaVu Sans Mono',consolas,'Courier New',monospace\"></pre>\n"
      ],
      "text/plain": []
     },
     "metadata": {},
     "output_type": "display_data"
    },
    {
     "data": {
      "text/html": [
       "<pre style=\"white-space:pre;overflow-x:auto;line-height:normal;font-family:Menlo,'DejaVu Sans Mono',consolas,'Courier New',monospace\">Event loop is already running. Applying nest_asyncio patch to allow async execution...\n",
       "</pre>\n"
      ],
      "text/plain": [
       "Event loop is already running. Applying nest_asyncio patch to allow async execution...\n"
      ]
     },
     "metadata": {},
     "output_type": "display_data"
    },
    {
     "data": {
      "text/html": [
       "<pre style=\"white-space:pre;overflow-x:auto;line-height:normal;font-family:Menlo,'DejaVu Sans Mono',consolas,'Courier New',monospace\"></pre>\n"
      ],
      "text/plain": []
     },
     "metadata": {},
     "output_type": "display_data"
    },
    {
     "data": {
      "text/html": [
       "<pre style=\"white-space:pre;overflow-x:auto;line-height:normal;font-family:Menlo,'DejaVu Sans Mono',consolas,'Courier New',monospace\">Event loop is already running. Applying nest_asyncio patch to allow async execution...\n",
       "</pre>\n"
      ],
      "text/plain": [
       "Event loop is already running. Applying nest_asyncio patch to allow async execution...\n"
      ]
     },
     "metadata": {},
     "output_type": "display_data"
    },
    {
     "data": {
      "text/html": [
       "<pre style=\"white-space:pre;overflow-x:auto;line-height:normal;font-family:Menlo,'DejaVu Sans Mono',consolas,'Courier New',monospace\"></pre>\n"
      ],
      "text/plain": []
     },
     "metadata": {},
     "output_type": "display_data"
    },
    {
     "data": {
      "text/html": [
       "<pre style=\"white-space:pre;overflow-x:auto;line-height:normal;font-family:Menlo,'DejaVu Sans Mono',consolas,'Courier New',monospace\">Event loop is already running. Applying nest_asyncio patch to allow async execution...\n",
       "</pre>\n"
      ],
      "text/plain": [
       "Event loop is already running. Applying nest_asyncio patch to allow async execution...\n"
      ]
     },
     "metadata": {},
     "output_type": "display_data"
    },
    {
     "data": {
      "text/html": [
       "<pre style=\"white-space:pre;overflow-x:auto;line-height:normal;font-family:Menlo,'DejaVu Sans Mono',consolas,'Courier New',monospace\"></pre>\n"
      ],
      "text/plain": []
     },
     "metadata": {},
     "output_type": "display_data"
    },
    {
     "data": {
      "text/html": [
       "<pre style=\"white-space:pre;overflow-x:auto;line-height:normal;font-family:Menlo,'DejaVu Sans Mono',consolas,'Courier New',monospace\">Event loop is already running. Applying nest_asyncio patch to allow async execution...\n",
       "</pre>\n"
      ],
      "text/plain": [
       "Event loop is already running. Applying nest_asyncio patch to allow async execution...\n"
      ]
     },
     "metadata": {},
     "output_type": "display_data"
    },
    {
     "data": {
      "text/html": [
       "<pre style=\"white-space:pre;overflow-x:auto;line-height:normal;font-family:Menlo,'DejaVu Sans Mono',consolas,'Courier New',monospace\"></pre>\n"
      ],
      "text/plain": []
     },
     "metadata": {},
     "output_type": "display_data"
    },
    {
     "data": {
      "text/html": [
       "<pre style=\"white-space:pre;overflow-x:auto;line-height:normal;font-family:Menlo,'DejaVu Sans Mono',consolas,'Courier New',monospace\">Event loop is already running. Applying nest_asyncio patch to allow async execution...\n",
       "</pre>\n"
      ],
      "text/plain": [
       "Event loop is already running. Applying nest_asyncio patch to allow async execution...\n"
      ]
     },
     "metadata": {},
     "output_type": "display_data"
    },
    {
     "data": {
      "text/html": [
       "<pre style=\"white-space:pre;overflow-x:auto;line-height:normal;font-family:Menlo,'DejaVu Sans Mono',consolas,'Courier New',monospace\"></pre>\n"
      ],
      "text/plain": []
     },
     "metadata": {},
     "output_type": "display_data"
    },
    {
     "data": {
      "text/html": [
       "<pre style=\"white-space:pre;overflow-x:auto;line-height:normal;font-family:Menlo,'DejaVu Sans Mono',consolas,'Courier New',monospace\">Event loop is already running. Applying nest_asyncio patch to allow async execution...\n",
       "</pre>\n"
      ],
      "text/plain": [
       "Event loop is already running. Applying nest_asyncio patch to allow async execution...\n"
      ]
     },
     "metadata": {},
     "output_type": "display_data"
    },
    {
     "data": {
      "text/html": [
       "<pre style=\"white-space:pre;overflow-x:auto;line-height:normal;font-family:Menlo,'DejaVu Sans Mono',consolas,'Courier New',monospace\"></pre>\n"
      ],
      "text/plain": []
     },
     "metadata": {},
     "output_type": "display_data"
    },
    {
     "data": {
      "text/html": [
       "<pre style=\"white-space:pre;overflow-x:auto;line-height:normal;font-family:Menlo,'DejaVu Sans Mono',consolas,'Courier New',monospace\">Event loop is already running. Applying nest_asyncio patch to allow async execution...\n",
       "</pre>\n"
      ],
      "text/plain": [
       "Event loop is already running. Applying nest_asyncio patch to allow async execution...\n"
      ]
     },
     "metadata": {},
     "output_type": "display_data"
    },
    {
     "data": {
      "text/html": [
       "<pre style=\"white-space:pre;overflow-x:auto;line-height:normal;font-family:Menlo,'DejaVu Sans Mono',consolas,'Courier New',monospace\"></pre>\n"
      ],
      "text/plain": []
     },
     "metadata": {},
     "output_type": "display_data"
    },
    {
     "data": {
      "text/html": [
       "<pre style=\"white-space:pre;overflow-x:auto;line-height:normal;font-family:Menlo,'DejaVu Sans Mono',consolas,'Courier New',monospace\">Event loop is already running. Applying nest_asyncio patch to allow async execution...\n",
       "</pre>\n"
      ],
      "text/plain": [
       "Event loop is already running. Applying nest_asyncio patch to allow async execution...\n"
      ]
     },
     "metadata": {},
     "output_type": "display_data"
    },
    {
     "data": {
      "text/html": [
       "<pre style=\"white-space:pre;overflow-x:auto;line-height:normal;font-family:Menlo,'DejaVu Sans Mono',consolas,'Courier New',monospace\"></pre>\n"
      ],
      "text/plain": []
     },
     "metadata": {},
     "output_type": "display_data"
    },
    {
     "data": {
      "text/html": [
       "<pre style=\"white-space:pre;overflow-x:auto;line-height:normal;font-family:Menlo,'DejaVu Sans Mono',consolas,'Courier New',monospace\">Event loop is already running. Applying nest_asyncio patch to allow async execution...\n",
       "</pre>\n"
      ],
      "text/plain": [
       "Event loop is already running. Applying nest_asyncio patch to allow async execution...\n"
      ]
     },
     "metadata": {},
     "output_type": "display_data"
    },
    {
     "data": {
      "text/html": [
       "<pre style=\"white-space:pre;overflow-x:auto;line-height:normal;font-family:Menlo,'DejaVu Sans Mono',consolas,'Courier New',monospace\"></pre>\n"
      ],
      "text/plain": []
     },
     "metadata": {},
     "output_type": "display_data"
    },
    {
     "data": {
      "text/html": [
       "<pre style=\"white-space:pre;overflow-x:auto;line-height:normal;font-family:Menlo,'DejaVu Sans Mono',consolas,'Courier New',monospace\">Event loop is already running. Applying nest_asyncio patch to allow async execution...\n",
       "</pre>\n"
      ],
      "text/plain": [
       "Event loop is already running. Applying nest_asyncio patch to allow async execution...\n"
      ]
     },
     "metadata": {},
     "output_type": "display_data"
    },
    {
     "data": {
      "text/html": [
       "<pre style=\"white-space:pre;overflow-x:auto;line-height:normal;font-family:Menlo,'DejaVu Sans Mono',consolas,'Courier New',monospace\"></pre>\n"
      ],
      "text/plain": []
     },
     "metadata": {},
     "output_type": "display_data"
    },
    {
     "data": {
      "text/html": [
       "<pre style=\"white-space:pre;overflow-x:auto;line-height:normal;font-family:Menlo,'DejaVu Sans Mono',consolas,'Courier New',monospace\">Event loop is already running. Applying nest_asyncio patch to allow async execution...\n",
       "</pre>\n"
      ],
      "text/plain": [
       "Event loop is already running. Applying nest_asyncio patch to allow async execution...\n"
      ]
     },
     "metadata": {},
     "output_type": "display_data"
    },
    {
     "data": {
      "text/html": [
       "<pre style=\"white-space:pre;overflow-x:auto;line-height:normal;font-family:Menlo,'DejaVu Sans Mono',consolas,'Courier New',monospace\"></pre>\n"
      ],
      "text/plain": []
     },
     "metadata": {},
     "output_type": "display_data"
    },
    {
     "data": {
      "text/html": [
       "<pre style=\"white-space:pre;overflow-x:auto;line-height:normal;font-family:Menlo,'DejaVu Sans Mono',consolas,'Courier New',monospace\">Event loop is already running. Applying nest_asyncio patch to allow async execution...\n",
       "</pre>\n"
      ],
      "text/plain": [
       "Event loop is already running. Applying nest_asyncio patch to allow async execution...\n"
      ]
     },
     "metadata": {},
     "output_type": "display_data"
    },
    {
     "data": {
      "text/html": [
       "<pre style=\"white-space:pre;overflow-x:auto;line-height:normal;font-family:Menlo,'DejaVu Sans Mono',consolas,'Courier New',monospace\"></pre>\n"
      ],
      "text/plain": []
     },
     "metadata": {},
     "output_type": "display_data"
    },
    {
     "data": {
      "text/html": [
       "<pre style=\"white-space:pre;overflow-x:auto;line-height:normal;font-family:Menlo,'DejaVu Sans Mono',consolas,'Courier New',monospace\">Event loop is already running. Applying nest_asyncio patch to allow async execution...\n",
       "</pre>\n"
      ],
      "text/plain": [
       "Event loop is already running. Applying nest_asyncio patch to allow async execution...\n"
      ]
     },
     "metadata": {},
     "output_type": "display_data"
    },
    {
     "data": {
      "text/html": [
       "<pre style=\"white-space:pre;overflow-x:auto;line-height:normal;font-family:Menlo,'DejaVu Sans Mono',consolas,'Courier New',monospace\"></pre>\n"
      ],
      "text/plain": []
     },
     "metadata": {},
     "output_type": "display_data"
    },
    {
     "data": {
      "text/html": [
       "<pre style=\"white-space:pre;overflow-x:auto;line-height:normal;font-family:Menlo,'DejaVu Sans Mono',consolas,'Courier New',monospace\">Event loop is already running. Applying nest_asyncio patch to allow async execution...\n",
       "</pre>\n"
      ],
      "text/plain": [
       "Event loop is already running. Applying nest_asyncio patch to allow async execution...\n"
      ]
     },
     "metadata": {},
     "output_type": "display_data"
    },
    {
     "data": {
      "text/html": [
       "<pre style=\"white-space:pre;overflow-x:auto;line-height:normal;font-family:Menlo,'DejaVu Sans Mono',consolas,'Courier New',monospace\"></pre>\n"
      ],
      "text/plain": []
     },
     "metadata": {},
     "output_type": "display_data"
    },
    {
     "data": {
      "text/html": [
       "<pre style=\"white-space:pre;overflow-x:auto;line-height:normal;font-family:Menlo,'DejaVu Sans Mono',consolas,'Courier New',monospace\">Event loop is already running. Applying nest_asyncio patch to allow async execution...\n",
       "</pre>\n"
      ],
      "text/plain": [
       "Event loop is already running. Applying nest_asyncio patch to allow async execution...\n"
      ]
     },
     "metadata": {},
     "output_type": "display_data"
    },
    {
     "data": {
      "text/html": [
       "<pre style=\"white-space:pre;overflow-x:auto;line-height:normal;font-family:Menlo,'DejaVu Sans Mono',consolas,'Courier New',monospace\"></pre>\n"
      ],
      "text/plain": []
     },
     "metadata": {},
     "output_type": "display_data"
    },
    {
     "data": {
      "text/html": [
       "<pre style=\"white-space:pre;overflow-x:auto;line-height:normal;font-family:Menlo,'DejaVu Sans Mono',consolas,'Courier New',monospace\">Event loop is already running. Applying nest_asyncio patch to allow async execution...\n",
       "</pre>\n"
      ],
      "text/plain": [
       "Event loop is already running. Applying nest_asyncio patch to allow async execution...\n"
      ]
     },
     "metadata": {},
     "output_type": "display_data"
    },
    {
     "data": {
      "text/html": [
       "<pre style=\"white-space:pre;overflow-x:auto;line-height:normal;font-family:Menlo,'DejaVu Sans Mono',consolas,'Courier New',monospace\"></pre>\n"
      ],
      "text/plain": []
     },
     "metadata": {},
     "output_type": "display_data"
    },
    {
     "data": {
      "text/html": [
       "<pre style=\"white-space:pre;overflow-x:auto;line-height:normal;font-family:Menlo,'DejaVu Sans Mono',consolas,'Courier New',monospace\">Event loop is already running. Applying nest_asyncio patch to allow async execution...\n",
       "</pre>\n"
      ],
      "text/plain": [
       "Event loop is already running. Applying nest_asyncio patch to allow async execution...\n"
      ]
     },
     "metadata": {},
     "output_type": "display_data"
    },
    {
     "data": {
      "text/html": [
       "<pre style=\"white-space:pre;overflow-x:auto;line-height:normal;font-family:Menlo,'DejaVu Sans Mono',consolas,'Courier New',monospace\"></pre>\n"
      ],
      "text/plain": []
     },
     "metadata": {},
     "output_type": "display_data"
    },
    {
     "data": {
      "text/html": [
       "<pre style=\"white-space:pre;overflow-x:auto;line-height:normal;font-family:Menlo,'DejaVu Sans Mono',consolas,'Courier New',monospace\">Event loop is already running. Applying nest_asyncio patch to allow async execution...\n",
       "</pre>\n"
      ],
      "text/plain": [
       "Event loop is already running. Applying nest_asyncio patch to allow async execution...\n"
      ]
     },
     "metadata": {},
     "output_type": "display_data"
    },
    {
     "data": {
      "text/html": [
       "<pre style=\"white-space:pre;overflow-x:auto;line-height:normal;font-family:Menlo,'DejaVu Sans Mono',consolas,'Courier New',monospace\"></pre>\n"
      ],
      "text/plain": []
     },
     "metadata": {},
     "output_type": "display_data"
    },
    {
     "data": {
      "text/html": [
       "<pre style=\"white-space:pre;overflow-x:auto;line-height:normal;font-family:Menlo,'DejaVu Sans Mono',consolas,'Courier New',monospace\">Event loop is already running. Applying nest_asyncio patch to allow async execution...\n",
       "</pre>\n"
      ],
      "text/plain": [
       "Event loop is already running. Applying nest_asyncio patch to allow async execution...\n"
      ]
     },
     "metadata": {},
     "output_type": "display_data"
    },
    {
     "data": {
      "text/html": [
       "<pre style=\"white-space:pre;overflow-x:auto;line-height:normal;font-family:Menlo,'DejaVu Sans Mono',consolas,'Courier New',monospace\"></pre>\n"
      ],
      "text/plain": []
     },
     "metadata": {},
     "output_type": "display_data"
    },
    {
     "data": {
      "text/html": [
       "<pre style=\"white-space:pre;overflow-x:auto;line-height:normal;font-family:Menlo,'DejaVu Sans Mono',consolas,'Courier New',monospace\">Event loop is already running. Applying nest_asyncio patch to allow async execution...\n",
       "</pre>\n"
      ],
      "text/plain": [
       "Event loop is already running. Applying nest_asyncio patch to allow async execution...\n"
      ]
     },
     "metadata": {},
     "output_type": "display_data"
    },
    {
     "data": {
      "text/html": [
       "<pre style=\"white-space:pre;overflow-x:auto;line-height:normal;font-family:Menlo,'DejaVu Sans Mono',consolas,'Courier New',monospace\"></pre>\n"
      ],
      "text/plain": []
     },
     "metadata": {},
     "output_type": "display_data"
    },
    {
     "data": {
      "text/html": [
       "<pre style=\"white-space:pre;overflow-x:auto;line-height:normal;font-family:Menlo,'DejaVu Sans Mono',consolas,'Courier New',monospace\">Event loop is already running. Applying nest_asyncio patch to allow async execution...\n",
       "</pre>\n"
      ],
      "text/plain": [
       "Event loop is already running. Applying nest_asyncio patch to allow async execution...\n"
      ]
     },
     "metadata": {},
     "output_type": "display_data"
    },
    {
     "data": {
      "text/html": [
       "<pre style=\"white-space:pre;overflow-x:auto;line-height:normal;font-family:Menlo,'DejaVu Sans Mono',consolas,'Courier New',monospace\"></pre>\n"
      ],
      "text/plain": []
     },
     "metadata": {},
     "output_type": "display_data"
    },
    {
     "data": {
      "text/html": [
       "<pre style=\"white-space:pre;overflow-x:auto;line-height:normal;font-family:Menlo,'DejaVu Sans Mono',consolas,'Courier New',monospace\">Event loop is already running. Applying nest_asyncio patch to allow async execution...\n",
       "</pre>\n"
      ],
      "text/plain": [
       "Event loop is already running. Applying nest_asyncio patch to allow async execution...\n"
      ]
     },
     "metadata": {},
     "output_type": "display_data"
    },
    {
     "data": {
      "text/html": [
       "<pre style=\"white-space:pre;overflow-x:auto;line-height:normal;font-family:Menlo,'DejaVu Sans Mono',consolas,'Courier New',monospace\"></pre>\n"
      ],
      "text/plain": []
     },
     "metadata": {},
     "output_type": "display_data"
    },
    {
     "data": {
      "text/html": [
       "<pre style=\"white-space:pre;overflow-x:auto;line-height:normal;font-family:Menlo,'DejaVu Sans Mono',consolas,'Courier New',monospace\">Event loop is already running. Applying nest_asyncio patch to allow async execution...\n",
       "</pre>\n"
      ],
      "text/plain": [
       "Event loop is already running. Applying nest_asyncio patch to allow async execution...\n"
      ]
     },
     "metadata": {},
     "output_type": "display_data"
    },
    {
     "data": {
      "text/html": [
       "<pre style=\"white-space:pre;overflow-x:auto;line-height:normal;font-family:Menlo,'DejaVu Sans Mono',consolas,'Courier New',monospace\"></pre>\n"
      ],
      "text/plain": []
     },
     "metadata": {},
     "output_type": "display_data"
    },
    {
     "data": {
      "text/html": [
       "<pre style=\"white-space:pre;overflow-x:auto;line-height:normal;font-family:Menlo,'DejaVu Sans Mono',consolas,'Courier New',monospace\">Event loop is already running. Applying nest_asyncio patch to allow async execution...\n",
       "</pre>\n"
      ],
      "text/plain": [
       "Event loop is already running. Applying nest_asyncio patch to allow async execution...\n"
      ]
     },
     "metadata": {},
     "output_type": "display_data"
    },
    {
     "data": {
      "text/html": [
       "<pre style=\"white-space:pre;overflow-x:auto;line-height:normal;font-family:Menlo,'DejaVu Sans Mono',consolas,'Courier New',monospace\"></pre>\n"
      ],
      "text/plain": []
     },
     "metadata": {},
     "output_type": "display_data"
    },
    {
     "data": {
      "text/html": [
       "<pre style=\"white-space:pre;overflow-x:auto;line-height:normal;font-family:Menlo,'DejaVu Sans Mono',consolas,'Courier New',monospace\">Event loop is already running. Applying nest_asyncio patch to allow async execution...\n",
       "</pre>\n"
      ],
      "text/plain": [
       "Event loop is already running. Applying nest_asyncio patch to allow async execution...\n"
      ]
     },
     "metadata": {},
     "output_type": "display_data"
    },
    {
     "data": {
      "text/html": [
       "<pre style=\"white-space:pre;overflow-x:auto;line-height:normal;font-family:Menlo,'DejaVu Sans Mono',consolas,'Courier New',monospace\"></pre>\n"
      ],
      "text/plain": []
     },
     "metadata": {},
     "output_type": "display_data"
    },
    {
     "data": {
      "text/html": [
       "<pre style=\"white-space:pre;overflow-x:auto;line-height:normal;font-family:Menlo,'DejaVu Sans Mono',consolas,'Courier New',monospace\">Event loop is already running. Applying nest_asyncio patch to allow async execution...\n",
       "</pre>\n"
      ],
      "text/plain": [
       "Event loop is already running. Applying nest_asyncio patch to allow async execution...\n"
      ]
     },
     "metadata": {},
     "output_type": "display_data"
    },
    {
     "data": {
      "text/html": [
       "<pre style=\"white-space:pre;overflow-x:auto;line-height:normal;font-family:Menlo,'DejaVu Sans Mono',consolas,'Courier New',monospace\"></pre>\n"
      ],
      "text/plain": []
     },
     "metadata": {},
     "output_type": "display_data"
    },
    {
     "data": {
      "text/html": [
       "<pre style=\"white-space:pre;overflow-x:auto;line-height:normal;font-family:Menlo,'DejaVu Sans Mono',consolas,'Courier New',monospace\">Event loop is already running. Applying nest_asyncio patch to allow async execution...\n",
       "</pre>\n"
      ],
      "text/plain": [
       "Event loop is already running. Applying nest_asyncio patch to allow async execution...\n"
      ]
     },
     "metadata": {},
     "output_type": "display_data"
    },
    {
     "data": {
      "text/html": [
       "<pre style=\"white-space:pre;overflow-x:auto;line-height:normal;font-family:Menlo,'DejaVu Sans Mono',consolas,'Courier New',monospace\"></pre>\n"
      ],
      "text/plain": []
     },
     "metadata": {},
     "output_type": "display_data"
    },
    {
     "data": {
      "text/html": [
       "<pre style=\"white-space:pre;overflow-x:auto;line-height:normal;font-family:Menlo,'DejaVu Sans Mono',consolas,'Courier New',monospace\">Event loop is already running. Applying nest_asyncio patch to allow async execution...\n",
       "</pre>\n"
      ],
      "text/plain": [
       "Event loop is already running. Applying nest_asyncio patch to allow async execution...\n"
      ]
     },
     "metadata": {},
     "output_type": "display_data"
    },
    {
     "data": {
      "text/html": [
       "<pre style=\"white-space:pre;overflow-x:auto;line-height:normal;font-family:Menlo,'DejaVu Sans Mono',consolas,'Courier New',monospace\"></pre>\n"
      ],
      "text/plain": []
     },
     "metadata": {},
     "output_type": "display_data"
    },
    {
     "data": {
      "text/html": [
       "<pre style=\"white-space:pre;overflow-x:auto;line-height:normal;font-family:Menlo,'DejaVu Sans Mono',consolas,'Courier New',monospace\">Event loop is already running. Applying nest_asyncio patch to allow async execution...\n",
       "</pre>\n"
      ],
      "text/plain": [
       "Event loop is already running. Applying nest_asyncio patch to allow async execution...\n"
      ]
     },
     "metadata": {},
     "output_type": "display_data"
    },
    {
     "data": {
      "text/html": [
       "<pre style=\"white-space:pre;overflow-x:auto;line-height:normal;font-family:Menlo,'DejaVu Sans Mono',consolas,'Courier New',monospace\"></pre>\n"
      ],
      "text/plain": []
     },
     "metadata": {},
     "output_type": "display_data"
    },
    {
     "data": {
      "text/html": [
       "<pre style=\"white-space:pre;overflow-x:auto;line-height:normal;font-family:Menlo,'DejaVu Sans Mono',consolas,'Courier New',monospace\">Event loop is already running. Applying nest_asyncio patch to allow async execution...\n",
       "</pre>\n"
      ],
      "text/plain": [
       "Event loop is already running. Applying nest_asyncio patch to allow async execution...\n"
      ]
     },
     "metadata": {},
     "output_type": "display_data"
    },
    {
     "data": {
      "text/html": [
       "<pre style=\"white-space:pre;overflow-x:auto;line-height:normal;font-family:Menlo,'DejaVu Sans Mono',consolas,'Courier New',monospace\"></pre>\n"
      ],
      "text/plain": []
     },
     "metadata": {},
     "output_type": "display_data"
    },
    {
     "data": {
      "text/html": [
       "<pre style=\"white-space:pre;overflow-x:auto;line-height:normal;font-family:Menlo,'DejaVu Sans Mono',consolas,'Courier New',monospace\">Event loop is already running. Applying nest_asyncio patch to allow async execution...\n",
       "</pre>\n"
      ],
      "text/plain": [
       "Event loop is already running. Applying nest_asyncio patch to allow async execution...\n"
      ]
     },
     "metadata": {},
     "output_type": "display_data"
    },
    {
     "data": {
      "text/html": [
       "<pre style=\"white-space:pre;overflow-x:auto;line-height:normal;font-family:Menlo,'DejaVu Sans Mono',consolas,'Courier New',monospace\"></pre>\n"
      ],
      "text/plain": []
     },
     "metadata": {},
     "output_type": "display_data"
    },
    {
     "data": {
      "text/html": [
       "<pre style=\"white-space:pre;overflow-x:auto;line-height:normal;font-family:Menlo,'DejaVu Sans Mono',consolas,'Courier New',monospace\">Event loop is already running. Applying nest_asyncio patch to allow async execution...\n",
       "</pre>\n"
      ],
      "text/plain": [
       "Event loop is already running. Applying nest_asyncio patch to allow async execution...\n"
      ]
     },
     "metadata": {},
     "output_type": "display_data"
    },
    {
     "data": {
      "text/html": [
       "<pre style=\"white-space:pre;overflow-x:auto;line-height:normal;font-family:Menlo,'DejaVu Sans Mono',consolas,'Courier New',monospace\"></pre>\n"
      ],
      "text/plain": []
     },
     "metadata": {},
     "output_type": "display_data"
    },
    {
     "data": {
      "text/html": [
       "<pre style=\"white-space:pre;overflow-x:auto;line-height:normal;font-family:Menlo,'DejaVu Sans Mono',consolas,'Courier New',monospace\">Event loop is already running. Applying nest_asyncio patch to allow async execution...\n",
       "</pre>\n"
      ],
      "text/plain": [
       "Event loop is already running. Applying nest_asyncio patch to allow async execution...\n"
      ]
     },
     "metadata": {},
     "output_type": "display_data"
    },
    {
     "data": {
      "text/html": [
       "<pre style=\"white-space:pre;overflow-x:auto;line-height:normal;font-family:Menlo,'DejaVu Sans Mono',consolas,'Courier New',monospace\"></pre>\n"
      ],
      "text/plain": []
     },
     "metadata": {},
     "output_type": "display_data"
    },
    {
     "data": {
      "text/html": [
       "<pre style=\"white-space:pre;overflow-x:auto;line-height:normal;font-family:Menlo,'DejaVu Sans Mono',consolas,'Courier New',monospace\">Event loop is already running. Applying nest_asyncio patch to allow async execution...\n",
       "</pre>\n"
      ],
      "text/plain": [
       "Event loop is already running. Applying nest_asyncio patch to allow async execution...\n"
      ]
     },
     "metadata": {},
     "output_type": "display_data"
    },
    {
     "data": {
      "text/html": [
       "<pre style=\"white-space:pre;overflow-x:auto;line-height:normal;font-family:Menlo,'DejaVu Sans Mono',consolas,'Courier New',monospace\"></pre>\n"
      ],
      "text/plain": []
     },
     "metadata": {},
     "output_type": "display_data"
    },
    {
     "data": {
      "text/html": [
       "<pre style=\"white-space:pre;overflow-x:auto;line-height:normal;font-family:Menlo,'DejaVu Sans Mono',consolas,'Courier New',monospace\">Event loop is already running. Applying nest_asyncio patch to allow async execution...\n",
       "</pre>\n"
      ],
      "text/plain": [
       "Event loop is already running. Applying nest_asyncio patch to allow async execution...\n"
      ]
     },
     "metadata": {},
     "output_type": "display_data"
    },
    {
     "data": {
      "text/html": [
       "<pre style=\"white-space:pre;overflow-x:auto;line-height:normal;font-family:Menlo,'DejaVu Sans Mono',consolas,'Courier New',monospace\"></pre>\n"
      ],
      "text/plain": []
     },
     "metadata": {},
     "output_type": "display_data"
    },
    {
     "data": {
      "text/html": [
       "<pre style=\"white-space:pre;overflow-x:auto;line-height:normal;font-family:Menlo,'DejaVu Sans Mono',consolas,'Courier New',monospace\">Event loop is already running. Applying nest_asyncio patch to allow async execution...\n",
       "</pre>\n"
      ],
      "text/plain": [
       "Event loop is already running. Applying nest_asyncio patch to allow async execution...\n"
      ]
     },
     "metadata": {},
     "output_type": "display_data"
    },
    {
     "data": {
      "text/html": [
       "<pre style=\"white-space:pre;overflow-x:auto;line-height:normal;font-family:Menlo,'DejaVu Sans Mono',consolas,'Courier New',monospace\"></pre>\n"
      ],
      "text/plain": []
     },
     "metadata": {},
     "output_type": "display_data"
    },
    {
     "data": {
      "text/html": [
       "<pre style=\"white-space:pre;overflow-x:auto;line-height:normal;font-family:Menlo,'DejaVu Sans Mono',consolas,'Courier New',monospace\">Event loop is already running. Applying nest_asyncio patch to allow async execution...\n",
       "</pre>\n"
      ],
      "text/plain": [
       "Event loop is already running. Applying nest_asyncio patch to allow async execution...\n"
      ]
     },
     "metadata": {},
     "output_type": "display_data"
    },
    {
     "data": {
      "text/html": [
       "<pre style=\"white-space:pre;overflow-x:auto;line-height:normal;font-family:Menlo,'DejaVu Sans Mono',consolas,'Courier New',monospace\"></pre>\n"
      ],
      "text/plain": []
     },
     "metadata": {},
     "output_type": "display_data"
    },
    {
     "data": {
      "text/html": [
       "<pre style=\"white-space:pre;overflow-x:auto;line-height:normal;font-family:Menlo,'DejaVu Sans Mono',consolas,'Courier New',monospace\">Event loop is already running. Applying nest_asyncio patch to allow async execution...\n",
       "</pre>\n"
      ],
      "text/plain": [
       "Event loop is already running. Applying nest_asyncio patch to allow async execution...\n"
      ]
     },
     "metadata": {},
     "output_type": "display_data"
    },
    {
     "data": {
      "text/html": [
       "<pre style=\"white-space:pre;overflow-x:auto;line-height:normal;font-family:Menlo,'DejaVu Sans Mono',consolas,'Courier New',monospace\"></pre>\n"
      ],
      "text/plain": []
     },
     "metadata": {},
     "output_type": "display_data"
    },
    {
     "data": {
      "text/html": [
       "<pre style=\"white-space:pre;overflow-x:auto;line-height:normal;font-family:Menlo,'DejaVu Sans Mono',consolas,'Courier New',monospace\">Event loop is already running. Applying nest_asyncio patch to allow async execution...\n",
       "</pre>\n"
      ],
      "text/plain": [
       "Event loop is already running. Applying nest_asyncio patch to allow async execution...\n"
      ]
     },
     "metadata": {},
     "output_type": "display_data"
    },
    {
     "data": {
      "text/html": [
       "<pre style=\"white-space:pre;overflow-x:auto;line-height:normal;font-family:Menlo,'DejaVu Sans Mono',consolas,'Courier New',monospace\"></pre>\n"
      ],
      "text/plain": []
     },
     "metadata": {},
     "output_type": "display_data"
    },
    {
     "data": {
      "text/html": [
       "<pre style=\"white-space:pre;overflow-x:auto;line-height:normal;font-family:Menlo,'DejaVu Sans Mono',consolas,'Courier New',monospace\">Event loop is already running. Applying nest_asyncio patch to allow async execution...\n",
       "</pre>\n"
      ],
      "text/plain": [
       "Event loop is already running. Applying nest_asyncio patch to allow async execution...\n"
      ]
     },
     "metadata": {},
     "output_type": "display_data"
    },
    {
     "data": {
      "text/html": [
       "<pre style=\"white-space:pre;overflow-x:auto;line-height:normal;font-family:Menlo,'DejaVu Sans Mono',consolas,'Courier New',monospace\"></pre>\n"
      ],
      "text/plain": []
     },
     "metadata": {},
     "output_type": "display_data"
    },
    {
     "data": {
      "text/html": [
       "<pre style=\"white-space:pre;overflow-x:auto;line-height:normal;font-family:Menlo,'DejaVu Sans Mono',consolas,'Courier New',monospace\">Event loop is already running. Applying nest_asyncio patch to allow async execution...\n",
       "</pre>\n"
      ],
      "text/plain": [
       "Event loop is already running. Applying nest_asyncio patch to allow async execution...\n"
      ]
     },
     "metadata": {},
     "output_type": "display_data"
    },
    {
     "data": {
      "text/html": [
       "<pre style=\"white-space:pre;overflow-x:auto;line-height:normal;font-family:Menlo,'DejaVu Sans Mono',consolas,'Courier New',monospace\"></pre>\n"
      ],
      "text/plain": []
     },
     "metadata": {},
     "output_type": "display_data"
    },
    {
     "data": {
      "text/html": [
       "<pre style=\"white-space:pre;overflow-x:auto;line-height:normal;font-family:Menlo,'DejaVu Sans Mono',consolas,'Courier New',monospace\">Event loop is already running. Applying nest_asyncio patch to allow async execution...\n",
       "</pre>\n"
      ],
      "text/plain": [
       "Event loop is already running. Applying nest_asyncio patch to allow async execution...\n"
      ]
     },
     "metadata": {},
     "output_type": "display_data"
    },
    {
     "data": {
      "text/html": [
       "<pre style=\"white-space:pre;overflow-x:auto;line-height:normal;font-family:Menlo,'DejaVu Sans Mono',consolas,'Courier New',monospace\"></pre>\n"
      ],
      "text/plain": []
     },
     "metadata": {},
     "output_type": "display_data"
    },
    {
     "data": {
      "text/html": [
       "<pre style=\"white-space:pre;overflow-x:auto;line-height:normal;font-family:Menlo,'DejaVu Sans Mono',consolas,'Courier New',monospace\">Event loop is already running. Applying nest_asyncio patch to allow async execution...\n",
       "</pre>\n"
      ],
      "text/plain": [
       "Event loop is already running. Applying nest_asyncio patch to allow async execution...\n"
      ]
     },
     "metadata": {},
     "output_type": "display_data"
    },
    {
     "data": {
      "text/html": [
       "<pre style=\"white-space:pre;overflow-x:auto;line-height:normal;font-family:Menlo,'DejaVu Sans Mono',consolas,'Courier New',monospace\"></pre>\n"
      ],
      "text/plain": []
     },
     "metadata": {},
     "output_type": "display_data"
    },
    {
     "data": {
      "text/html": [
       "<pre style=\"white-space:pre;overflow-x:auto;line-height:normal;font-family:Menlo,'DejaVu Sans Mono',consolas,'Courier New',monospace\">Event loop is already running. Applying nest_asyncio patch to allow async execution...\n",
       "</pre>\n"
      ],
      "text/plain": [
       "Event loop is already running. Applying nest_asyncio patch to allow async execution...\n"
      ]
     },
     "metadata": {},
     "output_type": "display_data"
    },
    {
     "data": {
      "text/html": [
       "<pre style=\"white-space:pre;overflow-x:auto;line-height:normal;font-family:Menlo,'DejaVu Sans Mono',consolas,'Courier New',monospace\"></pre>\n"
      ],
      "text/plain": []
     },
     "metadata": {},
     "output_type": "display_data"
    },
    {
     "data": {
      "text/html": [
       "<pre style=\"white-space:pre;overflow-x:auto;line-height:normal;font-family:Menlo,'DejaVu Sans Mono',consolas,'Courier New',monospace\">Event loop is already running. Applying nest_asyncio patch to allow async execution...\n",
       "</pre>\n"
      ],
      "text/plain": [
       "Event loop is already running. Applying nest_asyncio patch to allow async execution...\n"
      ]
     },
     "metadata": {},
     "output_type": "display_data"
    },
    {
     "data": {
      "text/html": [
       "<pre style=\"white-space:pre;overflow-x:auto;line-height:normal;font-family:Menlo,'DejaVu Sans Mono',consolas,'Courier New',monospace\"></pre>\n"
      ],
      "text/plain": []
     },
     "metadata": {},
     "output_type": "display_data"
    },
    {
     "data": {
      "text/html": [
       "<pre style=\"white-space:pre;overflow-x:auto;line-height:normal;font-family:Menlo,'DejaVu Sans Mono',consolas,'Courier New',monospace\">Event loop is already running. Applying nest_asyncio patch to allow async execution...\n",
       "</pre>\n"
      ],
      "text/plain": [
       "Event loop is already running. Applying nest_asyncio patch to allow async execution...\n"
      ]
     },
     "metadata": {},
     "output_type": "display_data"
    },
    {
     "data": {
      "text/html": [
       "<pre style=\"white-space:pre;overflow-x:auto;line-height:normal;font-family:Menlo,'DejaVu Sans Mono',consolas,'Courier New',monospace\"></pre>\n"
      ],
      "text/plain": []
     },
     "metadata": {},
     "output_type": "display_data"
    },
    {
     "data": {
      "text/html": [
       "<pre style=\"white-space:pre;overflow-x:auto;line-height:normal;font-family:Menlo,'DejaVu Sans Mono',consolas,'Courier New',monospace\">Event loop is already running. Applying nest_asyncio patch to allow async execution...\n",
       "</pre>\n"
      ],
      "text/plain": [
       "Event loop is already running. Applying nest_asyncio patch to allow async execution...\n"
      ]
     },
     "metadata": {},
     "output_type": "display_data"
    },
    {
     "data": {
      "text/html": [
       "<pre style=\"white-space:pre;overflow-x:auto;line-height:normal;font-family:Menlo,'DejaVu Sans Mono',consolas,'Courier New',monospace\"></pre>\n"
      ],
      "text/plain": []
     },
     "metadata": {},
     "output_type": "display_data"
    },
    {
     "data": {
      "text/html": [
       "<pre style=\"white-space:pre;overflow-x:auto;line-height:normal;font-family:Menlo,'DejaVu Sans Mono',consolas,'Courier New',monospace\">Event loop is already running. Applying nest_asyncio patch to allow async execution...\n",
       "</pre>\n"
      ],
      "text/plain": [
       "Event loop is already running. Applying nest_asyncio patch to allow async execution...\n"
      ]
     },
     "metadata": {},
     "output_type": "display_data"
    },
    {
     "data": {
      "text/html": [
       "<pre style=\"white-space:pre;overflow-x:auto;line-height:normal;font-family:Menlo,'DejaVu Sans Mono',consolas,'Courier New',monospace\"></pre>\n"
      ],
      "text/plain": []
     },
     "metadata": {},
     "output_type": "display_data"
    },
    {
     "data": {
      "text/html": [
       "<pre style=\"white-space:pre;overflow-x:auto;line-height:normal;font-family:Menlo,'DejaVu Sans Mono',consolas,'Courier New',monospace\">Event loop is already running. Applying nest_asyncio patch to allow async execution...\n",
       "</pre>\n"
      ],
      "text/plain": [
       "Event loop is already running. Applying nest_asyncio patch to allow async execution...\n"
      ]
     },
     "metadata": {},
     "output_type": "display_data"
    },
    {
     "data": {
      "text/html": [
       "<pre style=\"white-space:pre;overflow-x:auto;line-height:normal;font-family:Menlo,'DejaVu Sans Mono',consolas,'Courier New',monospace\">ERROR:root:Error raised by bedrock service: An error occurred (ThrottlingException) when calling the InvokeModel \n",
       "operation: Too many requests, please wait before trying again. You have sent too many requests.  Wait before trying\n",
       "again.\n",
       "</pre>\n"
      ],
      "text/plain": [
       "ERROR:root:Error raised by bedrock service: An error occurred (ThrottlingException) when calling the InvokeModel \n",
       "operation: Too many requests, please wait before trying again. You have sent too many requests.  Wait before trying\n",
       "again.\n"
      ]
     },
     "metadata": {},
     "output_type": "display_data"
    },
    {
     "data": {
      "text/html": [
       "<pre style=\"white-space:pre;overflow-x:auto;line-height:normal;font-family:Menlo,'DejaVu Sans Mono',consolas,'Courier New',monospace\"></pre>\n"
      ],
      "text/plain": []
     },
     "metadata": {},
     "output_type": "display_data"
    },
    {
     "data": {
      "text/html": [
       "<pre style=\"white-space:pre;overflow-x:auto;line-height:normal;font-family:Menlo,'DejaVu Sans Mono',consolas,'Courier New',monospace\">Event loop is already running. Applying nest_asyncio patch to allow async execution...\n",
       "</pre>\n"
      ],
      "text/plain": [
       "Event loop is already running. Applying nest_asyncio patch to allow async execution...\n"
      ]
     },
     "metadata": {},
     "output_type": "display_data"
    },
    {
     "data": {
      "text/html": [
       "<pre style=\"white-space:pre;overflow-x:auto;line-height:normal;font-family:Menlo,'DejaVu Sans Mono',consolas,'Courier New',monospace\">ERROR:root:Error raised by bedrock service: An error occurred (ThrottlingException) when calling the InvokeModel \n",
       "operation: Too many requests, please wait before trying again. You have sent too many requests.  Wait before trying\n",
       "again.\n",
       "</pre>\n"
      ],
      "text/plain": [
       "ERROR:root:Error raised by bedrock service: An error occurred (ThrottlingException) when calling the InvokeModel \n",
       "operation: Too many requests, please wait before trying again. You have sent too many requests.  Wait before trying\n",
       "again.\n"
      ]
     },
     "metadata": {},
     "output_type": "display_data"
    },
    {
     "data": {
      "text/html": [
       "<pre style=\"white-space:pre;overflow-x:auto;line-height:normal;font-family:Menlo,'DejaVu Sans Mono',consolas,'Courier New',monospace\"></pre>\n"
      ],
      "text/plain": []
     },
     "metadata": {},
     "output_type": "display_data"
    },
    {
     "data": {
      "text/html": [
       "<pre style=\"white-space:pre;overflow-x:auto;line-height:normal;font-family:Menlo,'DejaVu Sans Mono',consolas,'Courier New',monospace\">Event loop is already running. Applying nest_asyncio patch to allow async execution...\n",
       "</pre>\n"
      ],
      "text/plain": [
       "Event loop is already running. Applying nest_asyncio patch to allow async execution...\n"
      ]
     },
     "metadata": {},
     "output_type": "display_data"
    },
    {
     "data": {
      "text/html": [
       "<pre style=\"white-space:pre;overflow-x:auto;line-height:normal;font-family:Menlo,'DejaVu Sans Mono',consolas,'Courier New',monospace\">ERROR:root:Error raised by bedrock service: An error occurred (ThrottlingException) when calling the InvokeModel \n",
       "operation: Too many requests, please wait before trying again. You have sent too many requests.  Wait before trying\n",
       "again.\n",
       "</pre>\n"
      ],
      "text/plain": [
       "ERROR:root:Error raised by bedrock service: An error occurred (ThrottlingException) when calling the InvokeModel \n",
       "operation: Too many requests, please wait before trying again. You have sent too many requests.  Wait before trying\n",
       "again.\n"
      ]
     },
     "metadata": {},
     "output_type": "display_data"
    },
    {
     "data": {
      "text/html": [
       "<pre style=\"white-space:pre;overflow-x:auto;line-height:normal;font-family:Menlo,'DejaVu Sans Mono',consolas,'Courier New',monospace\"></pre>\n"
      ],
      "text/plain": []
     },
     "metadata": {},
     "output_type": "display_data"
    },
    {
     "data": {
      "text/html": [
       "<pre style=\"white-space:pre;overflow-x:auto;line-height:normal;font-family:Menlo,'DejaVu Sans Mono',consolas,'Courier New',monospace\">ERROR:root:Error raised by bedrock service: An error occurred (ThrottlingException) when calling the InvokeModel \n",
       "operation: Too many requests, please wait before trying again. You have sent too many requests.  Wait before trying\n",
       "again.\n",
       "</pre>\n"
      ],
      "text/plain": [
       "ERROR:root:Error raised by bedrock service: An error occurred (ThrottlingException) when calling the InvokeModel \n",
       "operation: Too many requests, please wait before trying again. You have sent too many requests.  Wait before trying\n",
       "again.\n"
      ]
     },
     "metadata": {},
     "output_type": "display_data"
    },
    {
     "data": {
      "text/html": [
       "<pre style=\"white-space:pre;overflow-x:auto;line-height:normal;font-family:Menlo,'DejaVu Sans Mono',consolas,'Courier New',monospace\">Event loop is already running. Applying nest_asyncio patch to allow async execution...\n",
       "</pre>\n"
      ],
      "text/plain": [
       "Event loop is already running. Applying nest_asyncio patch to allow async execution...\n"
      ]
     },
     "metadata": {},
     "output_type": "display_data"
    },
    {
     "data": {
      "text/html": [
       "<pre style=\"white-space:pre;overflow-x:auto;line-height:normal;font-family:Menlo,'DejaVu Sans Mono',consolas,'Courier New',monospace\">ERROR:root:Error raised by bedrock service: An error occurred (ThrottlingException) when calling the InvokeModel \n",
       "operation: Too many requests, please wait before trying again. You have sent too many requests.  Wait before trying\n",
       "again.\n",
       "</pre>\n"
      ],
      "text/plain": [
       "ERROR:root:Error raised by bedrock service: An error occurred (ThrottlingException) when calling the InvokeModel \n",
       "operation: Too many requests, please wait before trying again. You have sent too many requests.  Wait before trying\n",
       "again.\n"
      ]
     },
     "metadata": {},
     "output_type": "display_data"
    },
    {
     "data": {
      "text/html": [
       "<pre style=\"white-space:pre;overflow-x:auto;line-height:normal;font-family:Menlo,'DejaVu Sans Mono',consolas,'Courier New',monospace\"></pre>\n"
      ],
      "text/plain": []
     },
     "metadata": {},
     "output_type": "display_data"
    },
    {
     "data": {
      "text/html": [
       "<pre style=\"white-space:pre;overflow-x:auto;line-height:normal;font-family:Menlo,'DejaVu Sans Mono',consolas,'Courier New',monospace\">Event loop is already running. Applying nest_asyncio patch to allow async execution...\n",
       "</pre>\n"
      ],
      "text/plain": [
       "Event loop is already running. Applying nest_asyncio patch to allow async execution...\n"
      ]
     },
     "metadata": {},
     "output_type": "display_data"
    },
    {
     "data": {
      "text/html": [
       "<pre style=\"white-space:pre;overflow-x:auto;line-height:normal;font-family:Menlo,'DejaVu Sans Mono',consolas,'Courier New',monospace\">ERROR:root:Error raised by bedrock service: An error occurred (ThrottlingException) when calling the InvokeModel \n",
       "operation: Too many requests, please wait before trying again. You have sent too many requests.  Wait before trying\n",
       "again.\n",
       "</pre>\n"
      ],
      "text/plain": [
       "ERROR:root:Error raised by bedrock service: An error occurred (ThrottlingException) when calling the InvokeModel \n",
       "operation: Too many requests, please wait before trying again. You have sent too many requests.  Wait before trying\n",
       "again.\n"
      ]
     },
     "metadata": {},
     "output_type": "display_data"
    },
    {
     "data": {
      "text/html": [
       "<pre style=\"white-space:pre;overflow-x:auto;line-height:normal;font-family:Menlo,'DejaVu Sans Mono',consolas,'Courier New',monospace\"></pre>\n"
      ],
      "text/plain": []
     },
     "metadata": {},
     "output_type": "display_data"
    },
    {
     "data": {
      "text/html": [
       "<pre style=\"white-space:pre;overflow-x:auto;line-height:normal;font-family:Menlo,'DejaVu Sans Mono',consolas,'Courier New',monospace\">ERROR:root:Error raised by bedrock service: An error occurred (ThrottlingException) when calling the InvokeModel \n",
       "operation: Too many requests, please wait before trying again. You have sent too many requests.  Wait before trying\n",
       "again.\n",
       "</pre>\n"
      ],
      "text/plain": [
       "ERROR:root:Error raised by bedrock service: An error occurred (ThrottlingException) when calling the InvokeModel \n",
       "operation: Too many requests, please wait before trying again. You have sent too many requests.  Wait before trying\n",
       "again.\n"
      ]
     },
     "metadata": {},
     "output_type": "display_data"
    },
    {
     "data": {
      "text/html": [
       "<pre style=\"white-space:pre;overflow-x:auto;line-height:normal;font-family:Menlo,'DejaVu Sans Mono',consolas,'Courier New',monospace\">Event loop is already running. Applying nest_asyncio patch to allow async execution...\n",
       "</pre>\n"
      ],
      "text/plain": [
       "Event loop is already running. Applying nest_asyncio patch to allow async execution...\n"
      ]
     },
     "metadata": {},
     "output_type": "display_data"
    },
    {
     "data": {
      "text/html": [
       "<pre style=\"white-space:pre;overflow-x:auto;line-height:normal;font-family:Menlo,'DejaVu Sans Mono',consolas,'Courier New',monospace\">ERROR:root:Error raised by bedrock service: An error occurred (ThrottlingException) when calling the InvokeModel \n",
       "operation: Too many requests, please wait before trying again. You have sent too many requests.  Wait before trying\n",
       "again.\n",
       "</pre>\n"
      ],
      "text/plain": [
       "ERROR:root:Error raised by bedrock service: An error occurred (ThrottlingException) when calling the InvokeModel \n",
       "operation: Too many requests, please wait before trying again. You have sent too many requests.  Wait before trying\n",
       "again.\n"
      ]
     },
     "metadata": {},
     "output_type": "display_data"
    },
    {
     "data": {
      "text/html": [
       "<pre style=\"white-space:pre;overflow-x:auto;line-height:normal;font-family:Menlo,'DejaVu Sans Mono',consolas,'Courier New',monospace\"></pre>\n"
      ],
      "text/plain": []
     },
     "metadata": {},
     "output_type": "display_data"
    },
    {
     "data": {
      "text/html": [
       "<pre style=\"white-space:pre;overflow-x:auto;line-height:normal;font-family:Menlo,'DejaVu Sans Mono',consolas,'Courier New',monospace\">Event loop is already running. Applying nest_asyncio patch to allow async execution...\n",
       "</pre>\n"
      ],
      "text/plain": [
       "Event loop is already running. Applying nest_asyncio patch to allow async execution...\n"
      ]
     },
     "metadata": {},
     "output_type": "display_data"
    },
    {
     "data": {
      "text/html": [
       "<pre style=\"white-space:pre;overflow-x:auto;line-height:normal;font-family:Menlo,'DejaVu Sans Mono',consolas,'Courier New',monospace\">ERROR:root:Error raised by bedrock service: An error occurred (ThrottlingException) when calling the InvokeModel \n",
       "operation: Too many requests, please wait before trying again. You have sent too many requests.  Wait before trying\n",
       "again.\n",
       "</pre>\n"
      ],
      "text/plain": [
       "ERROR:root:Error raised by bedrock service: An error occurred (ThrottlingException) when calling the InvokeModel \n",
       "operation: Too many requests, please wait before trying again. You have sent too many requests.  Wait before trying\n",
       "again.\n"
      ]
     },
     "metadata": {},
     "output_type": "display_data"
    },
    {
     "data": {
      "text/html": [
       "<pre style=\"white-space:pre;overflow-x:auto;line-height:normal;font-family:Menlo,'DejaVu Sans Mono',consolas,'Courier New',monospace\"></pre>\n"
      ],
      "text/plain": []
     },
     "metadata": {},
     "output_type": "display_data"
    },
    {
     "data": {
      "text/html": [
       "<pre style=\"white-space:pre;overflow-x:auto;line-height:normal;font-family:Menlo,'DejaVu Sans Mono',consolas,'Courier New',monospace\">Event loop is already running. Applying nest_asyncio patch to allow async execution...\n",
       "</pre>\n"
      ],
      "text/plain": [
       "Event loop is already running. Applying nest_asyncio patch to allow async execution...\n"
      ]
     },
     "metadata": {},
     "output_type": "display_data"
    },
    {
     "data": {
      "text/html": [
       "<pre style=\"white-space:pre;overflow-x:auto;line-height:normal;font-family:Menlo,'DejaVu Sans Mono',consolas,'Courier New',monospace\">ERROR:root:Error raised by bedrock service: An error occurred (ThrottlingException) when calling the InvokeModel \n",
       "operation: Too many requests, please wait before trying again. You have sent too many requests.  Wait before trying\n",
       "again.\n",
       "</pre>\n"
      ],
      "text/plain": [
       "ERROR:root:Error raised by bedrock service: An error occurred (ThrottlingException) when calling the InvokeModel \n",
       "operation: Too many requests, please wait before trying again. You have sent too many requests.  Wait before trying\n",
       "again.\n"
      ]
     },
     "metadata": {},
     "output_type": "display_data"
    },
    {
     "data": {
      "text/html": [
       "<pre style=\"white-space:pre;overflow-x:auto;line-height:normal;font-family:Menlo,'DejaVu Sans Mono',consolas,'Courier New',monospace\"></pre>\n"
      ],
      "text/plain": []
     },
     "metadata": {},
     "output_type": "display_data"
    },
    {
     "data": {
      "text/html": [
       "<pre style=\"white-space:pre;overflow-x:auto;line-height:normal;font-family:Menlo,'DejaVu Sans Mono',consolas,'Courier New',monospace\">ERROR:root:Error raised by bedrock service: An error occurred (ThrottlingException) when calling the InvokeModel \n",
       "operation: Too many requests, please wait before trying again. You have sent too many requests.  Wait before trying\n",
       "again.\n",
       "</pre>\n"
      ],
      "text/plain": [
       "ERROR:root:Error raised by bedrock service: An error occurred (ThrottlingException) when calling the InvokeModel \n",
       "operation: Too many requests, please wait before trying again. You have sent too many requests.  Wait before trying\n",
       "again.\n"
      ]
     },
     "metadata": {},
     "output_type": "display_data"
    },
    {
     "data": {
      "text/html": [
       "<pre style=\"white-space:pre;overflow-x:auto;line-height:normal;font-family:Menlo,'DejaVu Sans Mono',consolas,'Courier New',monospace\">Event loop is already running. Applying nest_asyncio patch to allow async execution...\n",
       "</pre>\n"
      ],
      "text/plain": [
       "Event loop is already running. Applying nest_asyncio patch to allow async execution...\n"
      ]
     },
     "metadata": {},
     "output_type": "display_data"
    },
    {
     "data": {
      "text/html": [
       "<pre style=\"white-space:pre;overflow-x:auto;line-height:normal;font-family:Menlo,'DejaVu Sans Mono',consolas,'Courier New',monospace\">ERROR:root:Error raised by bedrock service: An error occurred (ThrottlingException) when calling the InvokeModel \n",
       "operation: Too many requests, please wait before trying again. You have sent too many requests.  Wait before trying\n",
       "again.\n",
       "</pre>\n"
      ],
      "text/plain": [
       "ERROR:root:Error raised by bedrock service: An error occurred (ThrottlingException) when calling the InvokeModel \n",
       "operation: Too many requests, please wait before trying again. You have sent too many requests.  Wait before trying\n",
       "again.\n"
      ]
     },
     "metadata": {},
     "output_type": "display_data"
    },
    {
     "data": {
      "text/html": [
       "<pre style=\"white-space:pre;overflow-x:auto;line-height:normal;font-family:Menlo,'DejaVu Sans Mono',consolas,'Courier New',monospace\"></pre>\n"
      ],
      "text/plain": []
     },
     "metadata": {},
     "output_type": "display_data"
    },
    {
     "data": {
      "text/html": [
       "<pre style=\"white-space:pre;overflow-x:auto;line-height:normal;font-family:Menlo,'DejaVu Sans Mono',consolas,'Courier New',monospace\">ERROR:root:Error raised by bedrock service: An error occurred (ThrottlingException) when calling the InvokeModel \n",
       "operation: Too many requests, please wait before trying again. You have sent too many requests.  Wait before trying\n",
       "again.\n",
       "</pre>\n"
      ],
      "text/plain": [
       "ERROR:root:Error raised by bedrock service: An error occurred (ThrottlingException) when calling the InvokeModel \n",
       "operation: Too many requests, please wait before trying again. You have sent too many requests.  Wait before trying\n",
       "again.\n"
      ]
     },
     "metadata": {},
     "output_type": "display_data"
    },
    {
     "data": {
      "text/html": [
       "<pre style=\"white-space:pre;overflow-x:auto;line-height:normal;font-family:Menlo,'DejaVu Sans Mono',consolas,'Courier New',monospace\">Event loop is already running. Applying nest_asyncio patch to allow async execution...\n",
       "</pre>\n"
      ],
      "text/plain": [
       "Event loop is already running. Applying nest_asyncio patch to allow async execution...\n"
      ]
     },
     "metadata": {},
     "output_type": "display_data"
    },
    {
     "data": {
      "text/html": [
       "<pre style=\"white-space:pre;overflow-x:auto;line-height:normal;font-family:Menlo,'DejaVu Sans Mono',consolas,'Courier New',monospace\">ERROR:root:Error raised by bedrock service: An error occurred (ThrottlingException) when calling the InvokeModel \n",
       "operation: Too many requests, please wait before trying again. You have sent too many requests.  Wait before trying\n",
       "again.\n",
       "</pre>\n"
      ],
      "text/plain": [
       "ERROR:root:Error raised by bedrock service: An error occurred (ThrottlingException) when calling the InvokeModel \n",
       "operation: Too many requests, please wait before trying again. You have sent too many requests.  Wait before trying\n",
       "again.\n"
      ]
     },
     "metadata": {},
     "output_type": "display_data"
    },
    {
     "data": {
      "text/html": [
       "<pre style=\"white-space:pre;overflow-x:auto;line-height:normal;font-family:Menlo,'DejaVu Sans Mono',consolas,'Courier New',monospace\"></pre>\n"
      ],
      "text/plain": []
     },
     "metadata": {},
     "output_type": "display_data"
    }
   ],
   "source": [
    "result = [get_relevancy(item) for item in texts]"
   ]
  }
 ],
 "metadata": {
  "kernelspec": {
   "display_name": "function-calling-project-_d8EX7TE-py3.12",
   "language": "python",
   "name": "python3"
  },
  "language_info": {
   "codemirror_mode": {
    "name": "ipython",
    "version": 3
   },
   "file_extension": ".py",
   "mimetype": "text/x-python",
   "name": "python",
   "nbconvert_exporter": "python",
   "pygments_lexer": "ipython3",
   "version": "3.12.3"
  }
 },
 "nbformat": 4,
 "nbformat_minor": 2
}
