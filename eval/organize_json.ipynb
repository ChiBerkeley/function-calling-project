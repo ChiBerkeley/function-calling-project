{
 "cells": [
  {
   "cell_type": "code",
   "execution_count": 1,
   "metadata": {},
   "outputs": [],
   "source": [
    "import os\n",
    "import json\n",
    "from glob import glob\n",
    "import pandas as pd\n",
    "os.chdir(\"..\")"
   ]
  },
  {
   "cell_type": "code",
   "execution_count": 2,
   "metadata": {},
   "outputs": [
    {
     "data": {
      "text/plain": [
       "['/Users/cs/Desktop/W210/function-calling-project/es_instruct/dump_json/zodiac_sign.json',\n",
       " '/Users/cs/Desktop/W210/function-calling-project/es_instruct/dump_json/playlist_duration.json',\n",
       " '/Users/cs/Desktop/W210/function-calling-project/es_instruct/dump_json/sentiment_analysis.json',\n",
       " '/Users/cs/Desktop/W210/function-calling-project/es_instruct/dump_json/simple_interest.json',\n",
       " '/Users/cs/Desktop/W210/function-calling-project/es_instruct/dump_json/password_generator.json',\n",
       " '/Users/cs/Desktop/W210/function-calling-project/es_instruct/dump_json/date_difference.json',\n",
       " '/Users/cs/Desktop/W210/function-calling-project/es_instruct/dump_json/calculate_tips.json',\n",
       " '/Users/cs/Desktop/W210/function-calling-project/es_instruct/dump_json/difference_of_squares.json']"
      ]
     },
     "execution_count": 2,
     "metadata": {},
     "output_type": "execute_result"
    }
   ],
   "source": [
    "json_list = glob('/Users/cs/Desktop/W210/function-calling-project/es_instruct/dump_json/*.json')\n",
    "json_list"
   ]
  },
  {
   "cell_type": "code",
   "execution_count": 3,
   "metadata": {},
   "outputs": [],
   "source": [
    "queries = []\n",
    "answers = []\n",
    "for file_path in json_list[0:]:\n",
    "    with open(file_path, 'r') as file:\n",
    "        text = json.load(file)\n",
    "        text = text[\"queries\"]\n",
    "        for item in text:\n",
    "            queries.append(item[\"query\"])\n",
    "            answers.append(json.dumps(item[\"answer\"]))\n",
    "        "
   ]
  },
  {
   "cell_type": "code",
   "execution_count": 4,
   "metadata": {},
   "outputs": [
    {
     "name": "stdout",
     "output_type": "stream",
     "text": [
      "there are 4820 rows at the beginning\n"
     ]
    }
   ],
   "source": [
    "import pandas as pd\n",
    "\n",
    "# check schema \n",
    "df = pd.DataFrame({\"queries\": queries, \"answers\": answers})\n",
    "df[\"functions\"] = df[\"answers\"].apply(lambda x: json.loads(x).get(\"function\", None))\n",
    "\n",
    "\n",
    "print(f\"there are {len(df)} rows at the beginning\")"
   ]
  },
  {
   "cell_type": "code",
   "execution_count": 5,
   "metadata": {},
   "outputs": [
    {
     "name": "stdout",
     "output_type": "stream",
     "text": [
      "there are 1680 after filtering out non function and sampling\n"
     ]
    }
   ],
   "source": [
    "#filtered non function\n",
    "df = df[~df[\"functions\"].isna()]\n",
    "\n",
    "function_names = df[\"functions\"].unique()\n",
    "\n",
    "sample_list = []\n",
    "for func_name in function_names:\n",
    "    sample_df  = df[df[\"functions\"]== func_name].sample(n=210, random_state=1)\n",
    "    sample_list.append(sample_df)\n",
    "df = pd.concat(sample_list)\n",
    "\n",
    "print(f\"there are {len(df)} after filtering out non function and sampling\")\n"
   ]
  },
  {
   "cell_type": "code",
   "execution_count": 6,
   "metadata": {},
   "outputs": [
    {
     "name": "stdout",
     "output_type": "stream",
     "text": [
      "there are 1680 has arguments keys\n"
     ]
    }
   ],
   "source": [
    "# filter arguments\n",
    "df[\"arguments\"] = df[\"answers\"].apply(lambda x: json.loads(x).get(\"arguments\", None))\n",
    "df = df[~df[\"arguments\"].isna()]\n",
    "df[\"arguments\"] = df[\"arguments\"].apply(json.dumps)\n",
    "\n",
    "print(f\"there are {len(df)} has arguments keys\")\n"
   ]
  },
  {
   "cell_type": "code",
   "execution_count": 7,
   "metadata": {},
   "outputs": [
    {
     "name": "stdout",
     "output_type": "stream",
     "text": [
      "Sentiment Analysis Result: {\"result\": {\"polarity\": 1.0, \"subjectivity\": 0.75}}\n",
      "Difference of Squares Result: {\"result\": 84}\n",
      "Generated Password: {\"result\": \"Y33H?OFu&k;j0*#;\"}\n",
      "Interest result:  {\"result\": 400.0}\n"
     ]
    },
    {
     "name": "stderr",
     "output_type": "stream",
     "text": [
      "/Users/cs/Library/Caches/pypoetry/virtualenvs/function-calling-project-_d8EX7TE-py3.12/lib/python3.12/site-packages/tqdm/auto.py:21: TqdmWarning: IProgress not found. Please update jupyter and ipywidgets. See https://ipywidgets.readthedocs.io/en/stable/user_install.html\n",
      "  from .autonotebook import tqdm as notebook_tqdm\n",
      "Pandas Apply: 100%|██████████| 1680/1680 [00:00<00:00, 24438.52it/s]\n"
     ]
    },
    {
     "data": {
      "text/plain": [
       "1680"
      ]
     },
     "execution_count": 7,
     "metadata": {},
     "output_type": "execute_result"
    }
   ],
   "source": [
    "from src.chi_functions import *\n",
    "from src.edward_functions import *\n",
    "from src.MT_functions import * \n",
    "from src.kevin_function import * \n",
    "import swifter\n",
    "\n",
    "def call_function(info: pd.DataFrame):\n",
    "    try:\n",
    "        func_to_call = eval(info[\"functions\"])\n",
    "        \n",
    "        arguments = json.loads(info[\"arguments\"])\n",
    "        return func_to_call(**arguments)\n",
    "    except:\n",
    "        return None\n",
    "df[\"callable\"] = df.swifter.apply(lambda x: call_function(x), axis=1)\n",
    "df = df[~df[\"callable\"].isna()]\n",
    "\n",
    "len(df)\n",
    "\n"
   ]
  },
  {
   "cell_type": "code",
   "execution_count": 51,
   "metadata": {},
   "outputs": [
    {
     "name": "stdout",
     "output_type": "stream",
     "text": [
      "['zodiac_sign' 'playlist_duration_calculator' 'sentiment_analysis'\n",
      " 'simple_interest' 'password_generator' 'date_difference' 'calculate_tip'\n",
      " 'difference_of_squares']\n"
     ]
    },
    {
     "data": {
      "text/plain": [
       "'Calculate the total playlist duration for 9 songs, average length 4.71437271016475 mins, include breaks: False, break duration: 1.11223561498185 mins.'"
      ]
     },
     "execution_count": 51,
     "metadata": {},
     "output_type": "execute_result"
    }
   ],
   "source": [
    "# save DataFrame\n",
    "df.reset_index(drop=True, inplace=True)\n",
    "df.to_csv(\"df_checkpoint_1.csv\", index=None)\n",
    "\n",
    "print(df[\"functions\"].unique())\n",
    "\n",
    "df[df[\"functions\"] == \"playlist_duration_calculator\"].iloc[4][\"queries\"]\n"
   ]
  },
  {
   "cell_type": "code",
   "execution_count": 94,
   "metadata": {},
   "outputs": [
    {
     "name": "stderr",
     "output_type": "stream",
     "text": [
      "10it [00:21,  2.17s/it]\n"
     ]
    }
   ],
   "source": [
    "import boto3\n",
    "from langchain_aws import ChatBedrock\n",
    "from botocore.config import Config\n",
    "import time\n",
    "from tqdm import tqdm\n",
    "import random\n",
    "\n",
    "def generate_response(df, llm):\n",
    "    query_output = df[\"queries\"]\n",
    "    function_output = df[\"callable\"]\n",
    "    messages = [\n",
    "    (\"system\", f\"Answer the question below in a complete sentence. Ensure your answer includes the key terms from the question, such as the subject or important descriptors. Here is the information that can help you answer the question: {function_output}. Do not generate a response more than 25 words\"),\n",
    "    (\"user\", f\"{query_output}\")]\n",
    "    response = llm.invoke(messages)\n",
    "\n",
    "    return response.content\n",
    "\n",
    "retry_config = Config(\n",
    "    retries = {\n",
    "        'max_attempts': 20,  # Customize the number of retry attempts\n",
    "        'mode': 'adaptive'   # Or 'adaptive' for dynamically adjusting retries\n",
    "    }\n",
    ")\n",
    "\n",
    "# Initialize the Bedrock client with retry configuration\n",
    "bedrock_client = boto3.client('bedrock-runtime', config=retry_config)\n",
    "\n",
    "# Use the ChatBedrock model in LangChain with the client that has retries\n",
    "llm = ChatBedrock(\n",
    "    client=bedrock_client,\n",
    "    model_id=\"meta.llama3-1-70b-instruct-v1:0\",  # Or \"meta.llama3-1-70b-instruct-v1:0\"\n",
    "    temperature=0.2,\n",
    "    max_tokens=None)\n",
    "\n",
    "\n",
    "\n",
    "responses = []\n",
    "numbers = []\n",
    "# os.remove(\"responses.csv\"\n",
    "# index = df.index.difference(response_df.index)\n",
    "# for item in tqdm(df.iloc[index].iterrows()):\n",
    "for item in tqdm(df.iterrows()):\n",
    "    try:\n",
    "        response = generate_response(item[1], llm)\n",
    "        responses.append(response)\n",
    "        numbers.append(item[0])\n",
    "        time.sleep(random.random()*2)\n",
    "        if item[0] % 5 == 0 :\n",
    "            temp_df = pd.DataFrame({\"index\": numbers, \"responses\": responses})\n",
    "            temp_df.to_csv('responses.csv', mode='a', index=False, header=False)\n",
    "            numbers = []\n",
    "            responses = []\n",
    "            \n",
    "\n",
    "    except Exception as e:\n",
    "        print(e)\n",
    "        time.sleep(random.random()*100)\n",
    "        response = generate_response(item[1], llm)\n",
    "        responses.append(response)\n",
    "        numbers.append(item[0])\n",
    "        if item[0] % 5 ==0 :\n",
    "            temp_df = pd.DataFrame({\"index\": numbers, \"responses\": responses})\n",
    "            temp_df.to_csv('responses.csv', mode='a', index=False, header=False)\n",
    "            numbers = []\n",
    "            responses = []\n",
    "        print(item[1][\"queries\"])\n",
    "        \n",
    "if item[0] % 5 != 0:\n",
    "    temp_df = pd.DataFrame({\"index\": numbers, \"responses\": responses})\n",
    "    temp_df.to_csv('responses.csv', mode='a', index=False, header=False)\n",
    "    print(\"last set saved\")\n"
   ]
  },
  {
   "cell_type": "code",
   "execution_count": 100,
   "metadata": {},
   "outputs": [
    {
     "data": {
      "text/plain": [
       "Index([225], dtype='int64', name=0)"
      ]
     },
     "execution_count": 100,
     "metadata": {},
     "output_type": "execute_result"
    }
   ],
   "source": [
    "index = df.index.difference(response_df.index)\n",
    "index\n",
    "response_df.index[response_df.index.duplicated()]"
   ]
  },
  {
   "cell_type": "code",
   "execution_count": 106,
   "metadata": {},
   "outputs": [],
   "source": [
    "# merge response to the main dataframe\n",
    "response_df = pd.read_csv(\"responses.csv\", index_col=0, header=None)\n",
    "response_df.rename(columns={1: \"generated_response\"}, inplace=True)\n",
    "response_df.sort_index(inplace=True)\n",
    "df = pd.read_csv(\"df_checkpoint_1.csv\", index_col=None)\n",
    "df[\"generated_responses\"] = response_df[\"generated_response\"]\n",
    "df.to_csv(\"df_checkpoint_2.csv\", index=None)\n",
    "\n"
   ]
  },
  {
   "cell_type": "code",
   "execution_count": 2,
   "metadata": {},
   "outputs": [
    {
     "data": {
      "text/html": [
       "<div>\n",
       "<style scoped>\n",
       "    .dataframe tbody tr th:only-of-type {\n",
       "        vertical-align: middle;\n",
       "    }\n",
       "\n",
       "    .dataframe tbody tr th {\n",
       "        vertical-align: top;\n",
       "    }\n",
       "\n",
       "    .dataframe thead th {\n",
       "        text-align: right;\n",
       "    }\n",
       "</style>\n",
       "<table border=\"1\" class=\"dataframe\">\n",
       "  <thead>\n",
       "    <tr style=\"text-align: right;\">\n",
       "      <th></th>\n",
       "      <th>queries</th>\n",
       "      <th>answers</th>\n",
       "      <th>functions</th>\n",
       "      <th>arguments</th>\n",
       "      <th>callable</th>\n",
       "      <th>generated_responses</th>\n",
       "    </tr>\n",
       "  </thead>\n",
       "  <tbody>\n",
       "    <tr>\n",
       "      <th>0</th>\n",
       "      <td>What is the zodiac sign for someone born on 20...</td>\n",
       "      <td>{\"function\": \"zodiac_sign\", \"arguments\": {\"bir...</td>\n",
       "      <td>zodiac_sign</td>\n",
       "      <td>{\"birthday\": \"2021-04-28\"}</td>\n",
       "      <td>{\"result\": \"Taurus\"}</td>\n",
       "      <td>The zodiac sign for someone born on April 28, ...</td>\n",
       "    </tr>\n",
       "    <tr>\n",
       "      <th>1</th>\n",
       "      <td>What is the zodiac sign for someone born on 19...</td>\n",
       "      <td>{\"function\": \"zodiac_sign\", \"arguments\": {\"bir...</td>\n",
       "      <td>zodiac_sign</td>\n",
       "      <td>{\"birthday\": \"1987-09-20\"}</td>\n",
       "      <td>{\"result\": \"Virgo\"}</td>\n",
       "      <td>The zodiac sign for someone born on September ...</td>\n",
       "    </tr>\n",
       "    <tr>\n",
       "      <th>2</th>\n",
       "      <td>What is the zodiac sign for someone born on 20...</td>\n",
       "      <td>{\"function\": \"zodiac_sign\", \"arguments\": {\"bir...</td>\n",
       "      <td>zodiac_sign</td>\n",
       "      <td>{\"birthday\": \"2003-09-16\"}</td>\n",
       "      <td>{\"result\": \"Virgo\"}</td>\n",
       "      <td>The zodiac sign for someone born on 2003-09-16...</td>\n",
       "    </tr>\n",
       "    <tr>\n",
       "      <th>3</th>\n",
       "      <td>What is the zodiac sign for someone born on 19...</td>\n",
       "      <td>{\"function\": \"zodiac_sign\", \"arguments\": {\"bir...</td>\n",
       "      <td>zodiac_sign</td>\n",
       "      <td>{\"birthday\": \"1993-11-21\"}</td>\n",
       "      <td>{\"result\": \"Scorpio\"}</td>\n",
       "      <td>The zodiac sign for someone born on November 2...</td>\n",
       "    </tr>\n",
       "    <tr>\n",
       "      <th>4</th>\n",
       "      <td>What is the zodiac sign for someone born on 19...</td>\n",
       "      <td>{\"function\": \"zodiac_sign\", \"arguments\": {\"bir...</td>\n",
       "      <td>zodiac_sign</td>\n",
       "      <td>{\"birthday\": \"1985-08-23\"}</td>\n",
       "      <td>{\"result\": \"Virgo\"}</td>\n",
       "      <td>The zodiac sign for someone born on August 23,...</td>\n",
       "    </tr>\n",
       "    <tr>\n",
       "      <th>...</th>\n",
       "      <td>...</td>\n",
       "      <td>...</td>\n",
       "      <td>...</td>\n",
       "      <td>...</td>\n",
       "      <td>...</td>\n",
       "      <td>...</td>\n",
       "    </tr>\n",
       "    <tr>\n",
       "      <th>1675</th>\n",
       "      <td>What is the difference of squares between 870....</td>\n",
       "      <td>{\"function\": \"difference_of_squares\", \"argumen...</td>\n",
       "      <td>difference_of_squares</td>\n",
       "      <td>{\"a\": 870.9055231201728, \"b\": 739.615958553147}</td>\n",
       "      <td>{\"result\": 211444.66405473137}</td>\n",
       "      <td>The difference of squares between 870.90552312...</td>\n",
       "    </tr>\n",
       "    <tr>\n",
       "      <th>1676</th>\n",
       "      <td>What is the difference of squares between 256....</td>\n",
       "      <td>{\"function\": \"difference_of_squares\", \"argumen...</td>\n",
       "      <td>difference_of_squares</td>\n",
       "      <td>{\"a\": 256.1316994557745, \"b\": 667.9498901024173}</td>\n",
       "      <td>{\"result\": -380553.6082217281}</td>\n",
       "      <td>The difference of squares is -380553.6082217281.</td>\n",
       "    </tr>\n",
       "    <tr>\n",
       "      <th>1677</th>\n",
       "      <td>What is the difference of squares between 628....</td>\n",
       "      <td>{\"function\": \"difference_of_squares\", \"argumen...</td>\n",
       "      <td>difference_of_squares</td>\n",
       "      <td>{\"a\": 628.2921580392243, \"b\": 525.4745800503505}</td>\n",
       "      <td>{\"result\": 118627.50157449342}</td>\n",
       "      <td>The difference of squares between 628.29215803...</td>\n",
       "    </tr>\n",
       "    <tr>\n",
       "      <th>1678</th>\n",
       "      <td>What is the difference of squares between 74.2...</td>\n",
       "      <td>{\"function\": \"difference_of_squares\", \"argumen...</td>\n",
       "      <td>difference_of_squares</td>\n",
       "      <td>{\"a\": 74.20386222247328, \"b\": 101.43474783453082}</td>\n",
       "      <td>{\"result\": -4782.794899523059}</td>\n",
       "      <td>The difference of squares between 74.203862222...</td>\n",
       "    </tr>\n",
       "    <tr>\n",
       "      <th>1679</th>\n",
       "      <td>What is the difference of squares between 350....</td>\n",
       "      <td>{\"function\": \"difference_of_squares\", \"argumen...</td>\n",
       "      <td>difference_of_squares</td>\n",
       "      <td>{\"a\": 350.9343131360342, \"b\": 594.389294205104}</td>\n",
       "      <td>{\"result\": -230143.7409293815}</td>\n",
       "      <td>The difference of squares between 350.93431313...</td>\n",
       "    </tr>\n",
       "  </tbody>\n",
       "</table>\n",
       "<p>1680 rows × 6 columns</p>\n",
       "</div>"
      ],
      "text/plain": [
       "                                                queries  \\\n",
       "0     What is the zodiac sign for someone born on 20...   \n",
       "1     What is the zodiac sign for someone born on 19...   \n",
       "2     What is the zodiac sign for someone born on 20...   \n",
       "3     What is the zodiac sign for someone born on 19...   \n",
       "4     What is the zodiac sign for someone born on 19...   \n",
       "...                                                 ...   \n",
       "1675  What is the difference of squares between 870....   \n",
       "1676  What is the difference of squares between 256....   \n",
       "1677  What is the difference of squares between 628....   \n",
       "1678  What is the difference of squares between 74.2...   \n",
       "1679  What is the difference of squares between 350....   \n",
       "\n",
       "                                                answers  \\\n",
       "0     {\"function\": \"zodiac_sign\", \"arguments\": {\"bir...   \n",
       "1     {\"function\": \"zodiac_sign\", \"arguments\": {\"bir...   \n",
       "2     {\"function\": \"zodiac_sign\", \"arguments\": {\"bir...   \n",
       "3     {\"function\": \"zodiac_sign\", \"arguments\": {\"bir...   \n",
       "4     {\"function\": \"zodiac_sign\", \"arguments\": {\"bir...   \n",
       "...                                                 ...   \n",
       "1675  {\"function\": \"difference_of_squares\", \"argumen...   \n",
       "1676  {\"function\": \"difference_of_squares\", \"argumen...   \n",
       "1677  {\"function\": \"difference_of_squares\", \"argumen...   \n",
       "1678  {\"function\": \"difference_of_squares\", \"argumen...   \n",
       "1679  {\"function\": \"difference_of_squares\", \"argumen...   \n",
       "\n",
       "                  functions  \\\n",
       "0               zodiac_sign   \n",
       "1               zodiac_sign   \n",
       "2               zodiac_sign   \n",
       "3               zodiac_sign   \n",
       "4               zodiac_sign   \n",
       "...                     ...   \n",
       "1675  difference_of_squares   \n",
       "1676  difference_of_squares   \n",
       "1677  difference_of_squares   \n",
       "1678  difference_of_squares   \n",
       "1679  difference_of_squares   \n",
       "\n",
       "                                              arguments  \\\n",
       "0                            {\"birthday\": \"2021-04-28\"}   \n",
       "1                            {\"birthday\": \"1987-09-20\"}   \n",
       "2                            {\"birthday\": \"2003-09-16\"}   \n",
       "3                            {\"birthday\": \"1993-11-21\"}   \n",
       "4                            {\"birthday\": \"1985-08-23\"}   \n",
       "...                                                 ...   \n",
       "1675    {\"a\": 870.9055231201728, \"b\": 739.615958553147}   \n",
       "1676   {\"a\": 256.1316994557745, \"b\": 667.9498901024173}   \n",
       "1677   {\"a\": 628.2921580392243, \"b\": 525.4745800503505}   \n",
       "1678  {\"a\": 74.20386222247328, \"b\": 101.43474783453082}   \n",
       "1679    {\"a\": 350.9343131360342, \"b\": 594.389294205104}   \n",
       "\n",
       "                            callable  \\\n",
       "0               {\"result\": \"Taurus\"}   \n",
       "1                {\"result\": \"Virgo\"}   \n",
       "2                {\"result\": \"Virgo\"}   \n",
       "3              {\"result\": \"Scorpio\"}   \n",
       "4                {\"result\": \"Virgo\"}   \n",
       "...                              ...   \n",
       "1675  {\"result\": 211444.66405473137}   \n",
       "1676  {\"result\": -380553.6082217281}   \n",
       "1677  {\"result\": 118627.50157449342}   \n",
       "1678  {\"result\": -4782.794899523059}   \n",
       "1679  {\"result\": -230143.7409293815}   \n",
       "\n",
       "                                    generated_responses  \n",
       "0     The zodiac sign for someone born on April 28, ...  \n",
       "1     The zodiac sign for someone born on September ...  \n",
       "2     The zodiac sign for someone born on 2003-09-16...  \n",
       "3     The zodiac sign for someone born on November 2...  \n",
       "4     The zodiac sign for someone born on August 23,...  \n",
       "...                                                 ...  \n",
       "1675  The difference of squares between 870.90552312...  \n",
       "1676   The difference of squares is -380553.6082217281.  \n",
       "1677  The difference of squares between 628.29215803...  \n",
       "1678  The difference of squares between 74.203862222...  \n",
       "1679  The difference of squares between 350.93431313...  \n",
       "\n",
       "[1680 rows x 6 columns]"
      ]
     },
     "execution_count": 2,
     "metadata": {},
     "output_type": "execute_result"
    }
   ],
   "source": [
    "df = pd.read_csv(\"df_checkpoint_2.csv\")\n",
    "df"
   ]
  },
  {
   "cell_type": "code",
   "execution_count": 14,
   "metadata": {},
   "outputs": [
    {
     "name": "stderr",
     "output_type": "stream",
     "text": [
      "0it [00:00, ?it/s]ERROR:root:Error raised by bedrock service: An error occurred (ThrottlingException) when calling the InvokeModel operation (reached max retries: 2): Too many requests, please wait before trying again. You have sent too many requests.  Wait before trying again.\n"
     ]
    },
    {
     "name": "stdout",
     "output_type": "stream",
     "text": [
      "An error occurred (ThrottlingException) when calling the InvokeModel operation (reached max retries: 2): Too many requests, please wait before trying again. You have sent too many requests.  Wait before trying again.\n"
     ]
    },
    {
     "name": "stderr",
     "output_type": "stream",
     "text": [
      "0it [00:10, ?it/s]\n"
     ]
    },
    {
     "ename": "KeyboardInterrupt",
     "evalue": "",
     "output_type": "error",
     "traceback": [
      "\u001b[0;31m---------------------------------------------------------------------------\u001b[0m",
      "\u001b[0;31mThrottlingException\u001b[0m                       Traceback (most recent call last)",
      "Cell \u001b[0;32mIn[14], line 60\u001b[0m\n\u001b[1;32m     59\u001b[0m \u001b[38;5;28;01mtry\u001b[39;00m:\n\u001b[0;32m---> 60\u001b[0m     reverse_queries \u001b[38;5;241m=\u001b[39m \u001b[43mget_reverse_prompt\u001b[49m\u001b[43m(\u001b[49m\u001b[38;5;241;43m3\u001b[39;49m\u001b[43m,\u001b[49m\u001b[43m \u001b[49m\u001b[43mitem\u001b[49m\u001b[43m[\u001b[49m\u001b[38;5;241;43m1\u001b[39;49m\u001b[43m]\u001b[49m\u001b[43m,\u001b[49m\u001b[43m \u001b[49m\u001b[43mllm_reverse\u001b[49m\u001b[43m)\u001b[49m\n\u001b[1;32m     61\u001b[0m     queries_list \u001b[38;5;241m=\u001b[39m json\u001b[38;5;241m.\u001b[39mdumps(reverse_queries[\u001b[38;5;124m\"\u001b[39m\u001b[38;5;124mquestions\u001b[39m\u001b[38;5;124m\"\u001b[39m])\n",
      "Cell \u001b[0;32mIn[14], line 51\u001b[0m, in \u001b[0;36mget_reverse_prompt\u001b[0;34m(n, df, llm)\u001b[0m\n\u001b[1;32m     50\u001b[0m prompt_and_model \u001b[38;5;241m=\u001b[39m prompt \u001b[38;5;241m|\u001b[39m llm\n\u001b[0;32m---> 51\u001b[0m output \u001b[38;5;241m=\u001b[39m \u001b[43mprompt_and_model\u001b[49m\u001b[38;5;241;43m.\u001b[39;49m\u001b[43minvoke\u001b[49m\u001b[43m(\u001b[49m\u001b[43m{\u001b[49m\u001b[38;5;124;43m\"\u001b[39;49m\u001b[38;5;124;43manswer\u001b[39;49m\u001b[38;5;124;43m\"\u001b[39;49m\u001b[43m:\u001b[49m\u001b[43m \u001b[49m\u001b[43mdf\u001b[49m\u001b[43m[\u001b[49m\u001b[38;5;124;43m\"\u001b[39;49m\u001b[38;5;124;43mgenerated_responses\u001b[39;49m\u001b[38;5;124;43m\"\u001b[39;49m\u001b[43m]\u001b[49m\u001b[43m}\u001b[49m\u001b[43m)\u001b[49m\n\u001b[1;32m     53\u001b[0m \u001b[38;5;28;01mreturn\u001b[39;00m parser\u001b[38;5;241m.\u001b[39minvoke(output)\n",
      "File \u001b[0;32m~/Library/Caches/pypoetry/virtualenvs/function-calling-project-_d8EX7TE-py3.12/lib/python3.12/site-packages/langchain_core/runnables/base.py:3024\u001b[0m, in \u001b[0;36mRunnableSequence.invoke\u001b[0;34m(self, input, config, **kwargs)\u001b[0m\n\u001b[1;32m   3023\u001b[0m         \u001b[38;5;28;01melse\u001b[39;00m:\n\u001b[0;32m-> 3024\u001b[0m             \u001b[38;5;28minput\u001b[39m \u001b[38;5;241m=\u001b[39m \u001b[43mcontext\u001b[49m\u001b[38;5;241;43m.\u001b[39;49m\u001b[43mrun\u001b[49m\u001b[43m(\u001b[49m\u001b[43mstep\u001b[49m\u001b[38;5;241;43m.\u001b[39;49m\u001b[43minvoke\u001b[49m\u001b[43m,\u001b[49m\u001b[43m \u001b[49m\u001b[38;5;28;43minput\u001b[39;49m\u001b[43m,\u001b[49m\u001b[43m \u001b[49m\u001b[43mconfig\u001b[49m\u001b[43m)\u001b[49m\n\u001b[1;32m   3025\u001b[0m \u001b[38;5;66;03m# finish the root run\u001b[39;00m\n",
      "File \u001b[0;32m~/Library/Caches/pypoetry/virtualenvs/function-calling-project-_d8EX7TE-py3.12/lib/python3.12/site-packages/langchain_core/language_models/chat_models.py:286\u001b[0m, in \u001b[0;36mBaseChatModel.invoke\u001b[0;34m(self, input, config, stop, **kwargs)\u001b[0m\n\u001b[1;32m    283\u001b[0m config \u001b[38;5;241m=\u001b[39m ensure_config(config)\n\u001b[1;32m    284\u001b[0m \u001b[38;5;28;01mreturn\u001b[39;00m cast(\n\u001b[1;32m    285\u001b[0m     ChatGeneration,\n\u001b[0;32m--> 286\u001b[0m     \u001b[38;5;28;43mself\u001b[39;49m\u001b[38;5;241;43m.\u001b[39;49m\u001b[43mgenerate_prompt\u001b[49m\u001b[43m(\u001b[49m\n\u001b[1;32m    287\u001b[0m \u001b[43m        \u001b[49m\u001b[43m[\u001b[49m\u001b[38;5;28;43mself\u001b[39;49m\u001b[38;5;241;43m.\u001b[39;49m\u001b[43m_convert_input\u001b[49m\u001b[43m(\u001b[49m\u001b[38;5;28;43minput\u001b[39;49m\u001b[43m)\u001b[49m\u001b[43m]\u001b[49m\u001b[43m,\u001b[49m\n\u001b[1;32m    288\u001b[0m \u001b[43m        \u001b[49m\u001b[43mstop\u001b[49m\u001b[38;5;241;43m=\u001b[39;49m\u001b[43mstop\u001b[49m\u001b[43m,\u001b[49m\n\u001b[1;32m    289\u001b[0m \u001b[43m        \u001b[49m\u001b[43mcallbacks\u001b[49m\u001b[38;5;241;43m=\u001b[39;49m\u001b[43mconfig\u001b[49m\u001b[38;5;241;43m.\u001b[39;49m\u001b[43mget\u001b[49m\u001b[43m(\u001b[49m\u001b[38;5;124;43m\"\u001b[39;49m\u001b[38;5;124;43mcallbacks\u001b[39;49m\u001b[38;5;124;43m\"\u001b[39;49m\u001b[43m)\u001b[49m\u001b[43m,\u001b[49m\n\u001b[1;32m    290\u001b[0m \u001b[43m        \u001b[49m\u001b[43mtags\u001b[49m\u001b[38;5;241;43m=\u001b[39;49m\u001b[43mconfig\u001b[49m\u001b[38;5;241;43m.\u001b[39;49m\u001b[43mget\u001b[49m\u001b[43m(\u001b[49m\u001b[38;5;124;43m\"\u001b[39;49m\u001b[38;5;124;43mtags\u001b[39;49m\u001b[38;5;124;43m\"\u001b[39;49m\u001b[43m)\u001b[49m\u001b[43m,\u001b[49m\n\u001b[1;32m    291\u001b[0m \u001b[43m        \u001b[49m\u001b[43mmetadata\u001b[49m\u001b[38;5;241;43m=\u001b[39;49m\u001b[43mconfig\u001b[49m\u001b[38;5;241;43m.\u001b[39;49m\u001b[43mget\u001b[49m\u001b[43m(\u001b[49m\u001b[38;5;124;43m\"\u001b[39;49m\u001b[38;5;124;43mmetadata\u001b[39;49m\u001b[38;5;124;43m\"\u001b[39;49m\u001b[43m)\u001b[49m\u001b[43m,\u001b[49m\n\u001b[1;32m    292\u001b[0m \u001b[43m        \u001b[49m\u001b[43mrun_name\u001b[49m\u001b[38;5;241;43m=\u001b[39;49m\u001b[43mconfig\u001b[49m\u001b[38;5;241;43m.\u001b[39;49m\u001b[43mget\u001b[49m\u001b[43m(\u001b[49m\u001b[38;5;124;43m\"\u001b[39;49m\u001b[38;5;124;43mrun_name\u001b[39;49m\u001b[38;5;124;43m\"\u001b[39;49m\u001b[43m)\u001b[49m\u001b[43m,\u001b[49m\n\u001b[1;32m    293\u001b[0m \u001b[43m        \u001b[49m\u001b[43mrun_id\u001b[49m\u001b[38;5;241;43m=\u001b[39;49m\u001b[43mconfig\u001b[49m\u001b[38;5;241;43m.\u001b[39;49m\u001b[43mpop\u001b[49m\u001b[43m(\u001b[49m\u001b[38;5;124;43m\"\u001b[39;49m\u001b[38;5;124;43mrun_id\u001b[39;49m\u001b[38;5;124;43m\"\u001b[39;49m\u001b[43m,\u001b[49m\u001b[43m \u001b[49m\u001b[38;5;28;43;01mNone\u001b[39;49;00m\u001b[43m)\u001b[49m\u001b[43m,\u001b[49m\n\u001b[1;32m    294\u001b[0m \u001b[43m        \u001b[49m\u001b[38;5;241;43m*\u001b[39;49m\u001b[38;5;241;43m*\u001b[39;49m\u001b[43mkwargs\u001b[49m\u001b[43m,\u001b[49m\n\u001b[1;32m    295\u001b[0m \u001b[43m    \u001b[49m\u001b[43m)\u001b[49m\u001b[38;5;241m.\u001b[39mgenerations[\u001b[38;5;241m0\u001b[39m][\u001b[38;5;241m0\u001b[39m],\n\u001b[1;32m    296\u001b[0m )\u001b[38;5;241m.\u001b[39mmessage\n",
      "File \u001b[0;32m~/Library/Caches/pypoetry/virtualenvs/function-calling-project-_d8EX7TE-py3.12/lib/python3.12/site-packages/langchain_core/language_models/chat_models.py:786\u001b[0m, in \u001b[0;36mBaseChatModel.generate_prompt\u001b[0;34m(self, prompts, stop, callbacks, **kwargs)\u001b[0m\n\u001b[1;32m    785\u001b[0m prompt_messages \u001b[38;5;241m=\u001b[39m [p\u001b[38;5;241m.\u001b[39mto_messages() \u001b[38;5;28;01mfor\u001b[39;00m p \u001b[38;5;129;01min\u001b[39;00m prompts]\n\u001b[0;32m--> 786\u001b[0m \u001b[38;5;28;01mreturn\u001b[39;00m \u001b[38;5;28;43mself\u001b[39;49m\u001b[38;5;241;43m.\u001b[39;49m\u001b[43mgenerate\u001b[49m\u001b[43m(\u001b[49m\u001b[43mprompt_messages\u001b[49m\u001b[43m,\u001b[49m\u001b[43m \u001b[49m\u001b[43mstop\u001b[49m\u001b[38;5;241;43m=\u001b[39;49m\u001b[43mstop\u001b[49m\u001b[43m,\u001b[49m\u001b[43m \u001b[49m\u001b[43mcallbacks\u001b[49m\u001b[38;5;241;43m=\u001b[39;49m\u001b[43mcallbacks\u001b[49m\u001b[43m,\u001b[49m\u001b[43m \u001b[49m\u001b[38;5;241;43m*\u001b[39;49m\u001b[38;5;241;43m*\u001b[39;49m\u001b[43mkwargs\u001b[49m\u001b[43m)\u001b[49m\n",
      "File \u001b[0;32m~/Library/Caches/pypoetry/virtualenvs/function-calling-project-_d8EX7TE-py3.12/lib/python3.12/site-packages/langchain_core/language_models/chat_models.py:643\u001b[0m, in \u001b[0;36mBaseChatModel.generate\u001b[0;34m(self, messages, stop, callbacks, tags, metadata, run_name, run_id, **kwargs)\u001b[0m\n\u001b[1;32m    642\u001b[0m             run_managers[i]\u001b[38;5;241m.\u001b[39mon_llm_error(e, response\u001b[38;5;241m=\u001b[39mLLMResult(generations\u001b[38;5;241m=\u001b[39m[]))\n\u001b[0;32m--> 643\u001b[0m         \u001b[38;5;28;01mraise\u001b[39;00m e\n\u001b[1;32m    644\u001b[0m flattened_outputs \u001b[38;5;241m=\u001b[39m [\n\u001b[1;32m    645\u001b[0m     LLMResult(generations\u001b[38;5;241m=\u001b[39m[res\u001b[38;5;241m.\u001b[39mgenerations], llm_output\u001b[38;5;241m=\u001b[39mres\u001b[38;5;241m.\u001b[39mllm_output)  \u001b[38;5;66;03m# type: ignore[list-item]\u001b[39;00m\n\u001b[1;32m    646\u001b[0m     \u001b[38;5;28;01mfor\u001b[39;00m res \u001b[38;5;129;01min\u001b[39;00m results\n\u001b[1;32m    647\u001b[0m ]\n",
      "File \u001b[0;32m~/Library/Caches/pypoetry/virtualenvs/function-calling-project-_d8EX7TE-py3.12/lib/python3.12/site-packages/langchain_core/language_models/chat_models.py:633\u001b[0m, in \u001b[0;36mBaseChatModel.generate\u001b[0;34m(self, messages, stop, callbacks, tags, metadata, run_name, run_id, **kwargs)\u001b[0m\n\u001b[1;32m    631\u001b[0m \u001b[38;5;28;01mtry\u001b[39;00m:\n\u001b[1;32m    632\u001b[0m     results\u001b[38;5;241m.\u001b[39mappend(\n\u001b[0;32m--> 633\u001b[0m         \u001b[38;5;28;43mself\u001b[39;49m\u001b[38;5;241;43m.\u001b[39;49m\u001b[43m_generate_with_cache\u001b[49m\u001b[43m(\u001b[49m\n\u001b[1;32m    634\u001b[0m \u001b[43m            \u001b[49m\u001b[43mm\u001b[49m\u001b[43m,\u001b[49m\n\u001b[1;32m    635\u001b[0m \u001b[43m            \u001b[49m\u001b[43mstop\u001b[49m\u001b[38;5;241;43m=\u001b[39;49m\u001b[43mstop\u001b[49m\u001b[43m,\u001b[49m\n\u001b[1;32m    636\u001b[0m \u001b[43m            \u001b[49m\u001b[43mrun_manager\u001b[49m\u001b[38;5;241;43m=\u001b[39;49m\u001b[43mrun_managers\u001b[49m\u001b[43m[\u001b[49m\u001b[43mi\u001b[49m\u001b[43m]\u001b[49m\u001b[43m \u001b[49m\u001b[38;5;28;43;01mif\u001b[39;49;00m\u001b[43m \u001b[49m\u001b[43mrun_managers\u001b[49m\u001b[43m \u001b[49m\u001b[38;5;28;43;01melse\u001b[39;49;00m\u001b[43m \u001b[49m\u001b[38;5;28;43;01mNone\u001b[39;49;00m\u001b[43m,\u001b[49m\n\u001b[1;32m    637\u001b[0m \u001b[43m            \u001b[49m\u001b[38;5;241;43m*\u001b[39;49m\u001b[38;5;241;43m*\u001b[39;49m\u001b[43mkwargs\u001b[49m\u001b[43m,\u001b[49m\n\u001b[1;32m    638\u001b[0m \u001b[43m        \u001b[49m\u001b[43m)\u001b[49m\n\u001b[1;32m    639\u001b[0m     )\n\u001b[1;32m    640\u001b[0m \u001b[38;5;28;01mexcept\u001b[39;00m \u001b[38;5;167;01mBaseException\u001b[39;00m \u001b[38;5;28;01mas\u001b[39;00m e:\n",
      "File \u001b[0;32m~/Library/Caches/pypoetry/virtualenvs/function-calling-project-_d8EX7TE-py3.12/lib/python3.12/site-packages/langchain_core/language_models/chat_models.py:851\u001b[0m, in \u001b[0;36mBaseChatModel._generate_with_cache\u001b[0;34m(self, messages, stop, run_manager, **kwargs)\u001b[0m\n\u001b[1;32m    850\u001b[0m \u001b[38;5;28;01mif\u001b[39;00m inspect\u001b[38;5;241m.\u001b[39msignature(\u001b[38;5;28mself\u001b[39m\u001b[38;5;241m.\u001b[39m_generate)\u001b[38;5;241m.\u001b[39mparameters\u001b[38;5;241m.\u001b[39mget(\u001b[38;5;124m\"\u001b[39m\u001b[38;5;124mrun_manager\u001b[39m\u001b[38;5;124m\"\u001b[39m):\n\u001b[0;32m--> 851\u001b[0m     result \u001b[38;5;241m=\u001b[39m \u001b[38;5;28;43mself\u001b[39;49m\u001b[38;5;241;43m.\u001b[39;49m\u001b[43m_generate\u001b[49m\u001b[43m(\u001b[49m\n\u001b[1;32m    852\u001b[0m \u001b[43m        \u001b[49m\u001b[43mmessages\u001b[49m\u001b[43m,\u001b[49m\u001b[43m \u001b[49m\u001b[43mstop\u001b[49m\u001b[38;5;241;43m=\u001b[39;49m\u001b[43mstop\u001b[49m\u001b[43m,\u001b[49m\u001b[43m \u001b[49m\u001b[43mrun_manager\u001b[49m\u001b[38;5;241;43m=\u001b[39;49m\u001b[43mrun_manager\u001b[49m\u001b[43m,\u001b[49m\u001b[43m \u001b[49m\u001b[38;5;241;43m*\u001b[39;49m\u001b[38;5;241;43m*\u001b[39;49m\u001b[43mkwargs\u001b[49m\n\u001b[1;32m    853\u001b[0m \u001b[43m    \u001b[49m\u001b[43m)\u001b[49m\n\u001b[1;32m    854\u001b[0m \u001b[38;5;28;01melse\u001b[39;00m:\n",
      "File \u001b[0;32m~/Library/Caches/pypoetry/virtualenvs/function-calling-project-_d8EX7TE-py3.12/lib/python3.12/site-packages/langchain_aws/chat_models/bedrock.py:551\u001b[0m, in \u001b[0;36mChatBedrock._generate\u001b[0;34m(self, messages, stop, run_manager, **kwargs)\u001b[0m\n\u001b[1;32m    549\u001b[0m         params[\u001b[38;5;124m\"\u001b[39m\u001b[38;5;124mstop_sequences\u001b[39m\u001b[38;5;124m\"\u001b[39m] \u001b[38;5;241m=\u001b[39m stop\n\u001b[0;32m--> 551\u001b[0m     completion, tool_calls, llm_output \u001b[38;5;241m=\u001b[39m \u001b[38;5;28;43mself\u001b[39;49m\u001b[38;5;241;43m.\u001b[39;49m\u001b[43m_prepare_input_and_invoke\u001b[49m\u001b[43m(\u001b[49m\n\u001b[1;32m    552\u001b[0m \u001b[43m        \u001b[49m\u001b[43mprompt\u001b[49m\u001b[38;5;241;43m=\u001b[39;49m\u001b[43mprompt\u001b[49m\u001b[43m,\u001b[49m\n\u001b[1;32m    553\u001b[0m \u001b[43m        \u001b[49m\u001b[43mstop\u001b[49m\u001b[38;5;241;43m=\u001b[39;49m\u001b[43mstop\u001b[49m\u001b[43m,\u001b[49m\n\u001b[1;32m    554\u001b[0m \u001b[43m        \u001b[49m\u001b[43mrun_manager\u001b[49m\u001b[38;5;241;43m=\u001b[39;49m\u001b[43mrun_manager\u001b[49m\u001b[43m,\u001b[49m\n\u001b[1;32m    555\u001b[0m \u001b[43m        \u001b[49m\u001b[43msystem\u001b[49m\u001b[38;5;241;43m=\u001b[39;49m\u001b[43msystem\u001b[49m\u001b[43m,\u001b[49m\n\u001b[1;32m    556\u001b[0m \u001b[43m        \u001b[49m\u001b[43mmessages\u001b[49m\u001b[38;5;241;43m=\u001b[39;49m\u001b[43mformatted_messages\u001b[49m\u001b[43m,\u001b[49m\n\u001b[1;32m    557\u001b[0m \u001b[43m        \u001b[49m\u001b[38;5;241;43m*\u001b[39;49m\u001b[38;5;241;43m*\u001b[39;49m\u001b[43mparams\u001b[49m\u001b[43m,\u001b[49m\n\u001b[1;32m    558\u001b[0m \u001b[43m    \u001b[49m\u001b[43m)\u001b[49m\n\u001b[1;32m    559\u001b[0m \u001b[38;5;66;03m# usage metadata\u001b[39;00m\n",
      "File \u001b[0;32m~/Library/Caches/pypoetry/virtualenvs/function-calling-project-_d8EX7TE-py3.12/lib/python3.12/site-packages/langchain_aws/llms/bedrock.py:840\u001b[0m, in \u001b[0;36mBedrockBase._prepare_input_and_invoke\u001b[0;34m(self, prompt, system, messages, stop, run_manager, **kwargs)\u001b[0m\n\u001b[1;32m    839\u001b[0m         run_manager\u001b[38;5;241m.\u001b[39mon_llm_error(e)\n\u001b[0;32m--> 840\u001b[0m     \u001b[38;5;28;01mraise\u001b[39;00m e\n\u001b[1;32m    842\u001b[0m \u001b[38;5;28;01mif\u001b[39;00m stop \u001b[38;5;129;01mis\u001b[39;00m \u001b[38;5;129;01mnot\u001b[39;00m \u001b[38;5;28;01mNone\u001b[39;00m:\n",
      "File \u001b[0;32m~/Library/Caches/pypoetry/virtualenvs/function-calling-project-_d8EX7TE-py3.12/lib/python3.12/site-packages/langchain_aws/llms/bedrock.py:826\u001b[0m, in \u001b[0;36mBedrockBase._prepare_input_and_invoke\u001b[0;34m(self, prompt, system, messages, stop, run_manager, **kwargs)\u001b[0m\n\u001b[1;32m    825\u001b[0m \u001b[38;5;28;01mtry\u001b[39;00m:\n\u001b[0;32m--> 826\u001b[0m     response \u001b[38;5;241m=\u001b[39m \u001b[38;5;28;43mself\u001b[39;49m\u001b[38;5;241;43m.\u001b[39;49m\u001b[43mclient\u001b[49m\u001b[38;5;241;43m.\u001b[39;49m\u001b[43minvoke_model\u001b[49m\u001b[43m(\u001b[49m\u001b[38;5;241;43m*\u001b[39;49m\u001b[38;5;241;43m*\u001b[39;49m\u001b[43mrequest_options\u001b[49m\u001b[43m)\u001b[49m\n\u001b[1;32m    828\u001b[0m     (\n\u001b[1;32m    829\u001b[0m         text,\n\u001b[1;32m    830\u001b[0m         tool_calls,\n\u001b[0;32m   (...)\u001b[0m\n\u001b[1;32m    833\u001b[0m         stop_reason,\n\u001b[1;32m    834\u001b[0m     ) \u001b[38;5;241m=\u001b[39m LLMInputOutputAdapter\u001b[38;5;241m.\u001b[39mprepare_output(provider, response)\u001b[38;5;241m.\u001b[39mvalues()\n",
      "File \u001b[0;32m~/Library/Caches/pypoetry/virtualenvs/function-calling-project-_d8EX7TE-py3.12/lib/python3.12/site-packages/botocore/client.py:569\u001b[0m, in \u001b[0;36mClientCreator._create_api_method.<locals>._api_call\u001b[0;34m(self, *args, **kwargs)\u001b[0m\n\u001b[1;32m    568\u001b[0m \u001b[38;5;66;03m# The \"self\" in this scope is referring to the BaseClient.\u001b[39;00m\n\u001b[0;32m--> 569\u001b[0m \u001b[38;5;28;01mreturn\u001b[39;00m \u001b[38;5;28;43mself\u001b[39;49m\u001b[38;5;241;43m.\u001b[39;49m\u001b[43m_make_api_call\u001b[49m\u001b[43m(\u001b[49m\u001b[43moperation_name\u001b[49m\u001b[43m,\u001b[49m\u001b[43m \u001b[49m\u001b[43mkwargs\u001b[49m\u001b[43m)\u001b[49m\n",
      "File \u001b[0;32m~/Library/Caches/pypoetry/virtualenvs/function-calling-project-_d8EX7TE-py3.12/lib/python3.12/site-packages/botocore/client.py:1023\u001b[0m, in \u001b[0;36mBaseClient._make_api_call\u001b[0;34m(self, operation_name, api_params)\u001b[0m\n\u001b[1;32m   1022\u001b[0m     error_class \u001b[38;5;241m=\u001b[39m \u001b[38;5;28mself\u001b[39m\u001b[38;5;241m.\u001b[39mexceptions\u001b[38;5;241m.\u001b[39mfrom_code(error_code)\n\u001b[0;32m-> 1023\u001b[0m     \u001b[38;5;28;01mraise\u001b[39;00m error_class(parsed_response, operation_name)\n\u001b[1;32m   1024\u001b[0m \u001b[38;5;28;01melse\u001b[39;00m:\n",
      "\u001b[0;31mThrottlingException\u001b[0m: An error occurred (ThrottlingException) when calling the InvokeModel operation (reached max retries: 2): Too many requests, please wait before trying again. You have sent too many requests.  Wait before trying again.",
      "\nDuring handling of the above exception, another exception occurred:\n",
      "\u001b[0;31mKeyboardInterrupt\u001b[0m                         Traceback (most recent call last)",
      "Cell \u001b[0;32mIn[14], line 73\u001b[0m\n\u001b[1;32m     71\u001b[0m \u001b[38;5;28;01mexcept\u001b[39;00m \u001b[38;5;167;01mException\u001b[39;00m \u001b[38;5;28;01mas\u001b[39;00m e:\n\u001b[1;32m     72\u001b[0m     \u001b[38;5;28mprint\u001b[39m(e)\n\u001b[0;32m---> 73\u001b[0m     \u001b[43mtime\u001b[49m\u001b[38;5;241;43m.\u001b[39;49m\u001b[43msleep\u001b[49m\u001b[43m(\u001b[49m\u001b[43mrandom\u001b[49m\u001b[38;5;241;43m.\u001b[39;49m\u001b[43mrandom\u001b[49m\u001b[43m(\u001b[49m\u001b[43m)\u001b[49m\u001b[38;5;241;43m*\u001b[39;49m\u001b[38;5;241;43m70\u001b[39;49m\u001b[43m)\u001b[49m\n\u001b[1;32m     74\u001b[0m     reverse_queries \u001b[38;5;241m=\u001b[39m get_reverse_prompt(\u001b[38;5;241m3\u001b[39m, item[\u001b[38;5;241m1\u001b[39m], llm_reverse)\n\u001b[1;32m     75\u001b[0m     queries_list \u001b[38;5;241m=\u001b[39m json\u001b[38;5;241m.\u001b[39mdumps(reverse_queries[\u001b[38;5;124m\"\u001b[39m\u001b[38;5;124mquestions\u001b[39m\u001b[38;5;124m\"\u001b[39m])\n",
      "\u001b[0;31mKeyboardInterrupt\u001b[0m: "
     ]
    }
   ],
   "source": [
    "# reverse prompt engineering\n",
    "from typing import List\n",
    "from langchain_core.pydantic_v1 import BaseModel, Field\n",
    "from langchain_core.output_parsers import JsonOutputParser\n",
    "from langchain_core.prompts import PromptTemplate\n",
    "from langchain_aws.embeddings import BedrockEmbeddings\n",
    "from langchain_community.utils.math import cosine_similarity\n",
    "import numpy as np\n",
    "import boto3\n",
    "from langchain_aws import ChatBedrock\n",
    "from botocore.config import Config\n",
    "import time\n",
    "from tqdm import tqdm\n",
    "import random\n",
    "import traceback\n",
    "\n",
    "\n",
    "\n",
    "retry_config = Config(\n",
    "    retries = {\n",
    "        'max_attempts': 2,  # Customize the number of retry attempts\n",
    "        'mode': 'adaptive'   # Or 'adaptive' for dynamically adjusting retries\n",
    "    }\n",
    ")\n",
    "\n",
    "# Initialize the Bedrock client with retry configuration\n",
    "bedrock_client = boto3.client('bedrock-runtime', config=retry_config)\n",
    "\n",
    "# Use the ChatBedrock model in LangChain with the client that has retries\n",
    "\n",
    "llm_reverse = ChatBedrock(\n",
    "    client=bedrock_client,\n",
    "    model_id=\"meta.llama3-1-70b-instruct-v1:0\",  # Or \"meta.llama3-1-70b-instruct-v1:0\"\n",
    "    temperature=0.2,\n",
    "    max_tokens=None)\n",
    "\n",
    "class Query(BaseModel):\n",
    "    \"\"\"reverse prompt engineering output\"\"\"\n",
    "    questions: List[str] = Field(description=\"a list of questions according to the user repsonse\")\n",
    "\n",
    "parser = JsonOutputParser(pydantic_object=Query)\n",
    "\n",
    "def get_reverse_prompt(n, df, llm):\n",
    "    prompt = PromptTemplate(\n",
    "        template=\"Generate \" + str(n) + \" most possible questions based on the answer. Please provide a JSON response strictly according to the schema without any additional comments or variations.\\n{format_instructions}\\n{answer}\\n\",\n",
    "        input_variables=[\"answer\"],\n",
    "        partial_variables={\"format_instructions\": parser.get_format_instructions()},\n",
    "    )\n",
    "\n",
    "    prompt_and_model = prompt | llm\n",
    "    output = prompt_and_model.invoke({\"answer\": df[\"generated_responses\"]})\n",
    "\n",
    "    return parser.invoke(output)\n",
    "\n",
    "responses = []\n",
    "numbers = []\n",
    "# os.remove(\"reverse_queries.csv\")\n",
    "for item in tqdm(df.iterrows()):\n",
    "    try:\n",
    "        reverse_queries = get_reverse_prompt(3, item[1], llm_reverse)\n",
    "        queries_list = json.dumps(reverse_queries[\"questions\"])\n",
    "        responses.append(queries_list)\n",
    "        numbers.append(item[0])\n",
    "        time.sleep(random.random()*2)\n",
    "        if item[0] % 5 == 0 :\n",
    "            temp_df = pd.DataFrame({\"index\": numbers, \"reverse_queries\": responses})\n",
    "            temp_df.to_csv('reverse_queries.csv', mode='a', index=False, header=False)\n",
    "            numbers = []\n",
    "            responses = []\n",
    "            \n",
    "    except Exception as e:\n",
    "        print(e)\n",
    "        time.sleep(random.random()*70)\n",
    "        reverse_queries = get_reverse_prompt(3, item[1], llm_reverse)\n",
    "        queries_list = json.dumps(reverse_queries[\"questions\"])\n",
    "        responses.append(queries_list)\n",
    "        numbers.append(item[0])\n",
    "        time.sleep(random.random())\n",
    "        if item[0] % 5 == 0 :\n",
    "            temp_df = pd.DataFrame({\"index\": numbers, \"reverse_queries\": responses})\n",
    "            temp_df.to_csv('reverse_queries.csv', mode='a', index=False, header=False)\n",
    "            numbers = []\n",
    "            responses = []\n",
    "        print(item[1][\"queries\"])\n",
    "        \n",
    "if item[0] % 5 != 0:\n",
    "    temp_df = pd.DataFrame({\"index\": numbers, \"reverse_queries\": responses})\n",
    "    temp_df.to_csv('reverse_queries.csv', mode='a', index=False, header=False)\n",
    "    print(\"last set saved\")\n",
    "\n",
    "\n"
   ]
  },
  {
   "cell_type": "code",
   "execution_count": 73,
   "metadata": {},
   "outputs": [],
   "source": [
    "response_df = pd.read_csv(\"reverse_queries.csv\", index_col=0, header=None)\n",
    "response_df.rename(columns={1: \"reverse_queries\"}, inplace=True)\n",
    "df = pd.read_csv(\"df_checkpoint_2.csv\", index_col=None)\n",
    "df[\"reverse_queries\"] = response_df[\"reverse_queries\"]\n",
    "df.to_csv(\"df_checkpoint_3.csv\", index=None)\n"
   ]
  },
  {
   "cell_type": "code",
   "execution_count": 81,
   "metadata": {},
   "outputs": [
    {
     "name": "stderr",
     "output_type": "stream",
     "text": [
      "/Users/cs/Library/Caches/pypoetry/virtualenvs/function-calling-project-_d8EX7TE-py3.12/lib/python3.12/site-packages/tqdm/auto.py:21: TqdmWarning: IProgress not found. Please update jupyter and ipywidgets. See https://ipywidgets.readthedocs.io/en/stable/user_install.html\n",
      "  from .autonotebook import tqdm as notebook_tqdm\n",
      "Pandas Apply: 100%|██████████| 1680/1680 [39:33<00:00,  1.41s/it]\n"
     ]
    }
   ],
   "source": [
    "import swifter\n",
    "# calculate_simliarity\n",
    "def calculate_mean_similiarity(df):\n",
    "    model_id = \"amazon.titan-embed-text-v2:0\"\n",
    "    # def get_cos_sim(query_response, reverse_queries):\n",
    "    embedding = BedrockEmbeddings(model_id=model_id)\n",
    "    \n",
    "    \n",
    "    original_embedded = embedding.embed_query(df[\"queries\"])\n",
    "    guess_embeded = embedding.embed_documents(json.loads(df[\"reverse_queries\"]))\n",
    "    return np.array([cosine_similarity([original_embedded], [item])[0] for item in guess_embeded]).mean()\n",
    "\n",
    "df[\"mean_cosine_similarity\"] = df.swifter.apply(calculate_mean_similiarity, axis=1)\n"
   ]
  },
  {
   "cell_type": "code",
   "execution_count": 83,
   "metadata": {},
   "outputs": [],
   "source": [
    "df.to_csv(\"df_checkpoint_4.csv\")"
   ]
  },
  {
   "cell_type": "code",
   "execution_count": null,
   "metadata": {},
   "outputs": [],
   "source": []
  }
 ],
 "metadata": {
  "kernelspec": {
   "display_name": "function-calling-project-_d8EX7TE-py3.12",
   "language": "python",
   "name": "python3"
  },
  "language_info": {
   "codemirror_mode": {
    "name": "ipython",
    "version": 3
   },
   "file_extension": ".py",
   "mimetype": "text/x-python",
   "name": "python",
   "nbconvert_exporter": "python",
   "pygments_lexer": "ipython3",
   "version": "3.12.3"
  }
 },
 "nbformat": 4,
 "nbformat_minor": 2
}
